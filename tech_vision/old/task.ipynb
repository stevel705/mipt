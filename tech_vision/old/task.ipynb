{
 "cells": [
  {
   "cell_type": "code",
   "execution_count": 1,
   "metadata": {},
   "outputs": [],
   "source": [
    "import numpy as np\n",
    "import matplotlib.pyplot as plt\n",
    "import time\n",
    "\n",
    "# np.random.seed(0)"
   ]
  },
  {
   "cell_type": "code",
   "execution_count": 2,
   "metadata": {},
   "outputs": [
    {
     "data": {
      "text/plain": [
       "[<matplotlib.lines.Line2D at 0x7ff06a27aa00>]"
      ]
     },
     "execution_count": 2,
     "metadata": {},
     "output_type": "execute_result"
    },
    {
     "data": {
      "image/png": "[encoded data removed]",
      "text/plain": [
       "<Figure size 432x288 with 1 Axes>"
      ]
     },
     "metadata": {
      "needs_background": "light"
     },
     "output_type": "display_data"
    }
   ],
   "source": [
    "theta = np.linspace( 0 , 2 * np.pi , 1000)\n",
    " \n",
    "radius = 0.4\n",
    " \n",
    "x_ortoform = radius * np.cos( theta ) + 1\n",
    "y_ortoform = radius * np.sin( theta ) + 2\n",
    "\n",
    "fig1, ax1 = plt.subplots()\n",
    "ax1.set_aspect('equal')\n",
    "ax1.plot(x_ortoform, y_ortoform)"
   ]
  },
  {
   "cell_type": "code",
   "execution_count": 3,
   "metadata": {},
   "outputs": [],
   "source": [
    "H = np.random.rand(3, 3)\n",
    "H[-1,-1] = 1.\n",
    "ortoform = np.stack((x_ortoform, y_ortoform, np.ones(x_ortoform.shape[0])))\n",
    "oval = H @ ortoform \n",
    "oval = oval / oval[2]"
   ]
  },
  {
   "cell_type": "code",
   "execution_count": 4,
   "metadata": {},
   "outputs": [],
   "source": [
    "c = H @ np.array([[1], [2], [1]])\n",
    "c = c / c[-1][0]"
   ]
  },
  {
   "cell_type": "code",
   "execution_count": 5,
   "metadata": {},
   "outputs": [
    {
     "data": {
      "text/plain": [
       "<matplotlib.collections.PathCollection at 0x7ff061e83d60>"
      ]
     },
     "execution_count": 5,
     "metadata": {},
     "output_type": "execute_result"
    },
    {
     "data": {
      "image/png": "[encoded data removed]",
      "text/plain": [
       "<Figure size 432x288 with 1 Axes>"
      ]
     },
     "metadata": {
      "needs_background": "light"
     },
     "output_type": "display_data"
    }
   ],
   "source": [
    "plt.plot(oval[0], oval[1])\n",
    "plt.scatter(c[0], c[1])"
   ]
  },
  {
   "cell_type": "code",
   "execution_count": 6,
   "metadata": {},
   "outputs": [
    {
     "data": {
      "text/plain": [
       "array([[0.29979581],\n",
       "       [0.32133536],\n",
       "       [1.        ]])"
      ]
     },
     "execution_count": 6,
     "metadata": {},
     "output_type": "execute_result"
    }
   ],
   "source": [
    "c"
   ]
  },
  {
   "cell_type": "code",
   "execution_count": null,
   "metadata": {},
   "outputs": [],
   "source": []
  },
  {
   "cell_type": "code",
   "execution_count": null,
   "metadata": {},
   "outputs": [],
   "source": []
  },
  {
   "cell_type": "code",
   "execution_count": 7,
   "metadata": {},
   "outputs": [
    {
     "data": {
      "text/plain": [
       "array([[0.32496768, 0.32483096, 0.3246935 , ..., 0.32523883, 0.32510363,\n",
       "        0.32496768],\n",
       "       [0.34604489, 0.34601954, 0.34599331, ..., 0.34609294, 0.34606936,\n",
       "        0.34604489],\n",
       "       [1.        , 1.        , 1.        , ..., 1.        , 1.        ,\n",
       "        1.        ]])"
      ]
     },
     "execution_count": 7,
     "metadata": {},
     "output_type": "execute_result"
    }
   ],
   "source": [
    "oval"
   ]
  },
  {
   "cell_type": "code",
   "execution_count": 8,
   "metadata": {},
   "outputs": [],
   "source": [
    "def gradient(x, y):\n",
    "#     x_diff = np.zeros_like(x)\n",
    "#     x_diff[1: -1] = x[2:] - x[:-2]\n",
    "#     x_diff[0] = x[1] - x[-1]\n",
    "#     x_diff[-1] = x[0] - x[-2]\n",
    "\n",
    "#     y_diff = np.zeros_like(y)\n",
    "#     y_diff[1: -1] = y[2:] - y[:-2]\n",
    "#     y_diff[0] = y[1] - y[-1]\n",
    "#     y_diff[-1] = y[0] - y[-2]\n",
    "\n",
    "    x_diff = np.zeros_like(x)\n",
    "    x_diff[2: -2] = x[4:] - x[:-4]\n",
    "    x_diff[:2] = x[2:4] - x[-2:]\n",
    "    x_diff[-1] = x[1] - x[-3]\n",
    "    x_diff[-2] = x[0] - x[-4]\n",
    "    \n",
    "    y_diff2 = np.zeros_like(x)\n",
    "    y_diff2[2: -2] = y[:-4] - y[4:]\n",
    "    y_diff2[0] = y[-2] - y[2]\n",
    "    y_diff2[1] = y[-1] - y[3]\n",
    "    y_diff2[-1] = y[-3] - y[1]\n",
    "    y_diff2[-2] = y[-4] - y[0]\n",
    "    \n",
    "    y_diff1 = np.zeros_like(x)\n",
    "    y_diff1[1: -1] = y[2:] - y[:-2]\n",
    "    y_diff1[0] = y[1] - y[-1]\n",
    "    y_diff1[-1] = y[0] - y[-1]\n",
    "    \n",
    "    y_diff = y_diff2 + 8 * y_diff1\n",
    "\n",
    "    return y_diff / (3 *x_diff)"
   ]
  },
  {
   "cell_type": "code",
   "execution_count": 9,
   "metadata": {},
   "outputs": [],
   "source": [
    "def tang_intersec(p1, p2, gr1, gr2):\n",
    "    point_x = (gr1 * p1[0] - gr2 * p2[0] + p2[1] - p1[1]) / (gr1 - gr2)\n",
    "    point_y = gr2 * (point_x - p2[0]) + p2[1]\n",
    "    return np.array([point_x, point_y])"
   ]
  },
  {
   "cell_type": "code",
   "execution_count": 10,
   "metadata": {},
   "outputs": [],
   "source": [
    "def line_intersec(p1, p2, p3, p4):\n",
    "    x1, y1 = p1\n",
    "    x2, y2 = p2\n",
    "    x3, y3 = p3\n",
    "    x4, y4 = p4\n",
    "    point_x = ((x2 - x1) * (y3 * x4 - y4 * x3) - (x4 - x3) * (y1 * x2 - y2 * x1)) / ((y3 - y4) * (x2 - x1) - (y1 - y2) * (x4 - x3))\n",
    "    point_y = y1 + ((point_x - x1) * (y2 - y1)) / (x2 - x1)\n",
    "    return np.array([point_x, point_y])"
   ]
  },
  {
   "cell_type": "code",
   "execution_count": 11,
   "metadata": {},
   "outputs": [],
   "source": [
    "def wurf(p1, p2, p3, p4):\n",
    "    a = np.linalg.norm(p2 - p1)\n",
    "    b = np.linalg.norm(p3 - p2)\n",
    "    c = np.linalg.norm(p4 - p3)\n",
    "    return a * c / b / (a + b + c)"
   ]
  },
  {
   "cell_type": "code",
   "execution_count": 12,
   "metadata": {},
   "outputs": [],
   "source": [
    "def calc_F(A, T, L, R, P, C, B, D, E, F, vis=False):\n",
    "    M = line_intersec(A, L, C, F)\n",
    "    G = line_intersec(A, L, P, R)\n",
    "    O = line_intersec(A, L, T, R)\n",
    "    K = line_intersec(T, R, C, F)\n",
    "    U = line_intersec(P, O, C, F)        \n",
    "    v1 = wurf(C, D, A, B)\n",
    "    v2 = wurf(C, E, L, P)\n",
    "    v3 = wurf(L, O, A, G)\n",
    "    v4 = wurf(L, A, M, G)\n",
    "    v5 = wurf(E, T, D, F)\n",
    "    v6 = wurf(P, R, B, F)\n",
    "    w1 = wurf(M, A, O, L)\n",
    "    w2 = wurf(K, T, O, R)\n",
    "    w3 = wurf(U, D, O, P)\n",
    "    return np.abs(w1 - 1) + np.abs(w2 - 1) + np.abs(w3 - 1) + np.abs(v1 - v3) + np.abs(v1 * v2 - 1) + np.abs(v4 - v1 + 1)"
   ]
  },
  {
   "cell_type": "code",
   "execution_count": 13,
   "metadata": {},
   "outputs": [],
   "source": [
    "def find_center(oval):\n",
    "    x = oval[0]\n",
    "    y = oval[1]\n",
    "    n = x.shape[0]\n",
    "    \n",
    "    grad = gradient(x, y)\n",
    "    \n",
    "    L_idx, R_idx = np.random.randint(low=0, high=n, size=2)\n",
    "    if (L_idx < R_idx):\n",
    "        L_idx, R_idx = R_idx, L_idx\n",
    "        \n",
    "    L = np.array([x[L_idx], y[L_idx]])\n",
    "    R = np.array([x[R_idx], y[R_idx]])\n",
    "    P = tang_intersec(L, R, grad[L_idx], grad[R_idx])\n",
    "    \n",
    "    func_best = np.inf\n",
    "    A_best_idx = 0\n",
    "    T_best_idx = 0\n",
    "    \n",
    "    for A_idx in range(R_idx + 1, L_idx - 1):\n",
    "        A = np.array([x[A_idx], y[A_idx]])\n",
    "        C = tang_intersec(A, L, grad[A_idx], grad[L_idx])\n",
    "        B = tang_intersec(A, R, grad[A_idx], grad[R_idx])      \n",
    "        for T_idx in range(A_idx + 1, L_idx):\n",
    "            T = np.array([x[T_idx], y[T_idx]])            \n",
    "            E = tang_intersec(T, L, grad[T_idx], grad[L_idx])\n",
    "            F = tang_intersec(T, R, grad[T_idx], grad[R_idx])\n",
    "            D = tang_intersec(A, T, grad[A_idx], grad[T_idx])            \n",
    "            func = calc_F(A, T, L, R, P, C, B, D, E, F)\n",
    "            if func < func_best:\n",
    "                func_best = func\n",
    "                A_best_idx = A_idx\n",
    "                T_best_idx = T_idx\n",
    "    \n",
    "    \n",
    "    for T_idx in range(L_idx + 1, n + R_idx - 1):\n",
    "        E = tang_intersec(T, L, grad[T_idx%n], grad[L_idx])\n",
    "        F = tang_intersec(T, R, grad[T_idx%n], grad[R_idx])\n",
    "        for A_idx in range(T_idx + 1, n + R_idx - 1):\n",
    "            A_idx = A_idx % n\n",
    "            T_idx = T_idx % n\n",
    "            A = np.array([x[A_idx], y[A_idx]])\n",
    "            T = np.array([x[T_idx], y[T_idx]])\n",
    "            \n",
    "            C = tang_intersec(A, L, grad[A_idx], grad[L_idx])\n",
    "            B = tang_intersec(A, R, grad[A_idx], grad[R_idx]) \n",
    "            D = tang_intersec(A, T, grad[A_idx], grad[T_idx])    \n",
    " \n",
    "            func = calc_F(A, T, L, R, P, C, B, D, E, F)\n",
    "            if func < func_best:\n",
    "                func_best = func\n",
    "                A_best_idx = A_idx\n",
    "                T_best_idx = T_idx\n",
    "                \n",
    "    return func_best, A_best_idx, T_best_idx, L_idx, R_idx"
   ]
  },
  {
   "cell_type": "code",
   "execution_count": 14,
   "metadata": {},
   "outputs": [
    {
     "name": "stdout",
     "output_type": "stream",
     "text": [
      "57.60516929626465\n"
     ]
    }
   ],
   "source": [
    "start = time.time()\n",
    "func_best, A_idx, T_idx, L_idx, R_idx = find_center(oval)         \n",
    "print(time.time() - start)"
   ]
  },
  {
   "cell_type": "code",
   "execution_count": 15,
   "metadata": {},
   "outputs": [
    {
     "data": {
      "text/plain": [
       "(82, 960, 783, 343)"
      ]
     },
     "execution_count": 15,
     "metadata": {},
     "output_type": "execute_result"
    }
   ],
   "source": [
    "A_idx, T_idx, L_idx, R_idx"
   ]
  },
  {
   "cell_type": "code",
   "execution_count": 16,
   "metadata": {},
   "outputs": [
    {
     "data": {
      "text/plain": [
       "[<matplotlib.lines.Line2D at 0x7ff061e148b0>]"
      ]
     },
     "execution_count": 16,
     "metadata": {},
     "output_type": "execute_result"
    },
    {
     "data": {
      "image/png": "[encoded data removed]",
      "text/plain": [
       "<Figure size 432x288 with 1 Axes>"
      ]
     },
     "metadata": {
      "needs_background": "light"
     },
     "output_type": "display_data"
    }
   ],
   "source": [
    "plt.plot(oval[0], oval[1])"
   ]
  },
  {
   "cell_type": "code",
   "execution_count": 17,
   "metadata": {},
   "outputs": [],
   "source": [
    "x = oval[0]"
   ]
  },
  {
   "cell_type": "code",
   "execution_count": 18,
   "metadata": {},
   "outputs": [
    {
     "ename": "NameError",
     "evalue": "name 'y' is not defined",
     "output_type": "error",
     "traceback": [
      "\u001b[0;31m---------------------------------------------------------------------------\u001b[0m",
      "\u001b[0;31mNameError\u001b[0m                                 Traceback (most recent call last)",
      "\u001b[0;32m/tmp/ipykernel_256981/2622435998.py\u001b[0m in \u001b[0;36m<module>\u001b[0;34m\u001b[0m\n\u001b[1;32m      1\u001b[0m \u001b[0mx_limit\u001b[0m \u001b[0;34m=\u001b[0m \u001b[0msorted\u001b[0m\u001b[0;34m(\u001b[0m\u001b[0mnp\u001b[0m\u001b[0;34m.\u001b[0m\u001b[0munique\u001b[0m\u001b[0;34m(\u001b[0m\u001b[0mx\u001b[0m\u001b[0;34m)\u001b[0m\u001b[0;34m)\u001b[0m\u001b[0;34m\u001b[0m\u001b[0;34m\u001b[0m\u001b[0m\n\u001b[0;32m----> 2\u001b[0;31m \u001b[0my_limit\u001b[0m \u001b[0;34m=\u001b[0m \u001b[0msorted\u001b[0m\u001b[0;34m(\u001b[0m\u001b[0mnp\u001b[0m\u001b[0;34m.\u001b[0m\u001b[0munique\u001b[0m\u001b[0;34m(\u001b[0m\u001b[0my\u001b[0m\u001b[0;34m)\u001b[0m\u001b[0;34m)\u001b[0m\u001b[0;34m\u001b[0m\u001b[0;34m\u001b[0m\u001b[0m\n\u001b[0m",
      "\u001b[0;31mNameError\u001b[0m: name 'y' is not defined"
     ]
    }
   ],
   "source": [
    "x_limit = sorted(np.unique(x))\n",
    "y_limit = sorted(np.unique(y))"
   ]
  },
  {
   "cell_type": "code",
   "execution_count": null,
   "metadata": {},
   "outputs": [],
   "source": [
    "x_min_idx, x_max_idx = np.argmin(x), np.argmax(x)"
   ]
  },
  {
   "cell_type": "code",
   "execution_count": null,
   "metadata": {},
   "outputs": [],
   "source": [
    "x_max_idx"
   ]
  },
  {
   "cell_type": "code",
   "execution_count": null,
   "metadata": {},
   "outputs": [],
   "source": []
  },
  {
   "cell_type": "code",
   "execution_count": null,
   "metadata": {},
   "outputs": [],
   "source": []
  },
  {
   "cell_type": "code",
   "execution_count": null,
   "metadata": {},
   "outputs": [],
   "source": [
    "func_best"
   ]
  },
  {
   "cell_type": "code",
   "execution_count": null,
   "metadata": {},
   "outputs": [],
   "source": [
    "x = oval[0]\n",
    "y = oval[1]\n",
    "n = x.shape[0]\n",
    "\n",
    "grad = gradient(x, y)\n",
    "\n",
    "L_idx, R_idx = np.random.randint(low=0, high=n, size=2)\n",
    "if (L_idx < R_idx):\n",
    "    L_idx, R_idx = R_idx, L_idx\n",
    "\n",
    "L = np.array([x[L_idx], y[L_idx]])\n",
    "R = np.array([x[R_idx], y[R_idx]])\n",
    "P = tang_intersec(L, R, grad[L_idx], grad[R_idx])"
   ]
  },
  {
   "cell_type": "code",
   "execution_count": null,
   "metadata": {},
   "outputs": [],
   "source": [
    "A_idx, T_idx = 10, 900\n",
    "A = np.array([x[A_idx], y[A_idx]])\n",
    "T = np.array([x[T_idx], y[T_idx]])"
   ]
  },
  {
   "cell_type": "code",
   "execution_count": null,
   "metadata": {},
   "outputs": [],
   "source": [
    "C = tang_intersec(A, L, grad[A_idx], grad[L_idx])\n",
    "B = tang_intersec(A, R, grad[A_idx], grad[R_idx])  "
   ]
  },
  {
   "cell_type": "code",
   "execution_count": null,
   "metadata": {},
   "outputs": [],
   "source": [
    "E = tang_intersec(T, L, grad[T_idx], grad[L_idx])\n",
    "F = tang_intersec(T, R, grad[T_idx], grad[R_idx])\n",
    "D = tang_intersec(A, T, grad[A_idx], grad[T_idx]) "
   ]
  },
  {
   "cell_type": "code",
   "execution_count": null,
   "metadata": {},
   "outputs": [],
   "source": [
    "M = line_intersec(A, L, C, F)\n",
    "G = line_intersec(A, L, P, R)\n",
    "O = line_intersec(A, L, T, R)\n",
    "K = line_intersec(T, R, C, F)\n",
    "U = line_intersec(P, O, C, F) "
   ]
  },
  {
   "cell_type": "code",
   "execution_count": null,
   "metadata": {},
   "outputs": [],
   "source": [
    "v1 = wurf(C, D, A, B)\n",
    "v2 = wurf(C, E, L, P)\n",
    "v3 = wurf(L, O, A, G)\n",
    "v4 = wurf(L, A, M, G)\n",
    "v5 = wurf(E, T, D, F)\n",
    "v6 = wurf(P, R, B, F)\n",
    "w1 = wurf(M, A, O, L)\n",
    "w2 = wurf(K, T, O, R)\n",
    "w3 = wurf(U, D, O, P)\n",
    "print(np.abs(w1 - 1) + np.abs(w2 - 1) + np.abs(w3 - 1) + np.abs(v1 - v3) + np.abs(v1 * v2 - 1) + np.abs(v4 - v1 + 1))"
   ]
  },
  {
   "cell_type": "code",
   "execution_count": null,
   "metadata": {},
   "outputs": [],
   "source": [
    "delta = 0.003\n",
    "plt.figure(figsize=(10, 10))\n",
    "plt.plot(oval[0], oval[1])\n",
    "# plt.scatter(x[0], y[0], c='r')\n",
    "# plt.scatter(x[100], y[100], c='r')\n",
    "for p, name in zip([L, R, P, A, T, C, B, E, D, F, M, G, O],\n",
    "                   ['L', 'R', 'P', 'A', 'T', 'C', 'B', 'E', 'D', 'F', 'M', 'G', 'O']):\n",
    "    plt.scatter(p[0], p[1], c='r', s=10)\n",
    "    plt.annotate(name, (p[0], p[1] + delta))\n",
    "\n",
    "for p1, p2 in zip([C, G, A, T, D, D, M], [E, B, G, R, C, F, C]):\n",
    "    plt.plot([p1[0], p2[0]], [p1[1], p2[1]], c='r', linewidth=0.5)\n",
    "plt.show()"
   ]
  },
  {
   "cell_type": "code",
   "execution_count": null,
   "metadata": {},
   "outputs": [],
   "source": []
  },
  {
   "cell_type": "code",
   "execution_count": null,
   "metadata": {},
   "outputs": [],
   "source": []
  },
  {
   "cell_type": "code",
   "execution_count": null,
   "metadata": {},
   "outputs": [],
   "source": []
  },
  {
   "cell_type": "code",
   "execution_count": null,
   "metadata": {},
   "outputs": [],
   "source": [
    "func_best"
   ]
  },
  {
   "cell_type": "code",
   "execution_count": null,
   "metadata": {},
   "outputs": [],
   "source": [
    "print(A_idx, T_idx, L_idx, R_idx)"
   ]
  },
  {
   "cell_type": "code",
   "execution_count": null,
   "metadata": {},
   "outputs": [],
   "source": [
    "def vis(oval, A_idx, T_idx, L_idx, R_idx):\n",
    "    x = oval[0]\n",
    "    y = oval[1]\n",
    "    grad = gradient(x, y)\n",
    "    \n",
    "    A = np.array([x[A_idx], y[A_idx]])\n",
    "    T = np.array([x[T_idx], y[T_idx]]) \n",
    "    L = np.array([x[L_idx], y[L_idx]])\n",
    "    R = np.array([x[R_idx], y[R_idx]])\n",
    "    \n",
    "    P = tang_intersec(L, R, grad[L_idx], grad[R_idx])\n",
    "    C = tang_intersec(A, L, grad[A_idx], grad[L_idx])\n",
    "    B = tang_intersec(A, R, grad[A_idx], grad[R_idx])\n",
    "               \n",
    "    E = tang_intersec(T, L, grad[T_idx], grad[L_idx])\n",
    "    F = tang_intersec(T, R, grad[T_idx], grad[R_idx])\n",
    "    D = tang_intersec(A, T, grad[A_idx], grad[T_idx])\n",
    "    \n",
    "    M = line_intersec(A, L, C, F)\n",
    "    G = line_intersec(A, L, P, R)\n",
    "    O = line_intersec(A, L, T, R)\n",
    "    K = line_intersec(T, R, C, F)\n",
    "    U = line_intersec(P, O, C, F) \n",
    "    plt.figure(figsize=(10, 10))\n",
    "    plt.plot(oval[0], oval[1])\n",
    "    delta = 0.003\n",
    "    for p, name in zip([A, B, C, D, E, F, G, K, L, M, O, P, R, T, U],\n",
    "                       ['A', 'B', 'C', 'D', 'E', 'F', 'G', 'K', 'L', 'M', 'O', 'P', 'R', 'T', 'U']):\n",
    "        plt.scatter(p[0], p[1], c='r', s=10)\n",
    "        plt.annotate(name, (p[0], p[1] + delta))\n",
    "        \n",
    "    for p1, p2 in zip([P, L, P, C, P, C, E, C], [G, G, C, F, U, B, F, R]):\n",
    "        plt.plot([p1[0], p2[0]], [p1[1], p2[1]], c='r', linewidth=0.5)\n",
    "    plt.show()\n",
    "    \n",
    "    return O"
   ]
  },
  {
   "cell_type": "code",
   "execution_count": null,
   "metadata": {},
   "outputs": [],
   "source": [
    "center = vis(oval, A_idx, T_idx, L_idx, R_idx)"
   ]
  },
  {
   "cell_type": "code",
   "execution_count": null,
   "metadata": {},
   "outputs": [],
   "source": [
    "center"
   ]
  },
  {
   "cell_type": "code",
   "execution_count": null,
   "metadata": {},
   "outputs": [],
   "source": [
    "c"
   ]
  },
  {
   "cell_type": "code",
   "execution_count": null,
   "metadata": {},
   "outputs": [],
   "source": []
  },
  {
   "cell_type": "code",
   "execution_count": 12,
   "metadata": {},
   "outputs": [],
   "source": [
    "import pandas as pd\n",
    "import numpy as np\n",
    "import matplotlib.pyplot as plt\n",
    "data = pd.read_excel(\"data.xlsx\", converters = {\n",
    "    'X': lambda x: x.replace(',', '.'),\n",
    "    'Y': lambda x: x.replace(',', '.')\n",
    "})\n",
    "\n",
    "oval = data.to_numpy().astype(np.float).T"
   ]
  },
  {
   "cell_type": "code",
   "execution_count": 3,
   "metadata": {},
   "outputs": [],
   "source": [
    "x = oval[0]\n",
    "y = oval[1]"
   ]
  },
  {
   "cell_type": "code",
   "execution_count": 6,
   "metadata": {},
   "outputs": [],
   "source": [
    "grid_x = np.linspace(x.min(), x.max(), num=1500)\n",
    "grid_y = np.linspace(y.min(), y.max(), num=1500)"
   ]
  },
  {
   "cell_type": "code",
   "execution_count": 9,
   "metadata": {},
   "outputs": [],
   "source": [
    "new_x = grid_x[np.searchsorted(grid_x, x)]"
   ]
  },
  {
   "cell_type": "code",
   "execution_count": 10,
   "metadata": {},
   "outputs": [],
   "source": [
    "new_y = grid_y[np.searchsorted(grid_y, y)]"
   ]
  },
  {
   "cell_type": "code",
   "execution_count": 21,
   "metadata": {},
   "outputs": [
    {
     "data": {
      "text/plain": [
       "1"
      ]
     },
     "execution_count": 21,
     "metadata": {},
     "output_type": "execute_result"
    }
   ],
   "source": [
    "(new_y == grid_y[200]).sum()"
   ]
  },
  {
   "cell_type": "code",
   "execution_count": 22,
   "metadata": {},
   "outputs": [],
   "source": [
    "grid_x_dict = {}\n",
    "\n",
    "for x_, y_ in zip(new_x, new_y):\n",
    "    if x_ in grid_x_dict:\n",
    "        grid_x_dict[x_].append(y_)\n",
    "    else:\n",
    "        grid_x_dict[x_] = [y_]"
   ]
  },
  {
   "cell_type": "code",
   "execution_count": 28,
   "metadata": {},
   "outputs": [
    {
     "name": "stdout",
     "output_type": "stream",
     "text": [
      "[-0.5277571755460894, -0.5291122390858432, -0.531822366165351, -0.5345324932448585, -0.5372426203243663, -0.5399527474038739, -0.5413078109436278, -0.5440179380231355, -0.5467280651026432, -0.5494381921821508, -0.5521483192616585, -0.5535033828014124, -0.55621350988092, -0.5589236369604278, -0.5643438911194432, -0.565698954659197, -0.5684090817387046, -0.5711192088182123, -0.57382933589772, -0.5751843994374739, -0.5778945265169815, -0.5806046535964893, -0.5833147806759968, -0.5846698442157507, -0.5873799712952584, -0.5900900983747661, -0.5928002254542738, -0.5941552889940276]\n",
      "[-0.512851476608797, -0.5142065401485509, -0.5169166672280586, -0.5196267943075663, -0.522336921387074, -0.5250470484665817, -0.5968654160735354, -0.599575543153043, -0.6022856702325508, -0.6036407337723045, -0.6063508608518122, -0.6090609879313199]\n",
      "[-0.49930084121125873, -0.5020109682907663, -0.5047210953702741, -0.5074312224497817, -0.5101413495292895, -0.6117711150108276, -0.6131261785505815, -0.6158363056300891, -0.6185464327095969]\n",
      "[-0.4871052693534741, -0.4898153964329818, -0.49252552351248946, -0.49388058705224336, -0.49659071413175093, -0.6212565597891044, -0.6226116233288583, -0.625321750408366, -0.6280318774878737]\n",
      "[-0.47626476103544335, -0.47897488811495104, -0.4816850151944587, -0.4843951422739664, -0.6293869410276276, -0.6320970681071352, -0.634807195186643]\n",
      "[-0.4681343797969203, -0.470844506876428, -0.47355463395593567, -0.6375173222661505, -0.6388723858059044, -0.6415825128854121]\n",
      "[-0.45864893501864334, -0.46135906209815114, -0.4640691891776587, -0.4667793162571665, -0.6442926399649198, -0.6470027670444275, -0.6483578305841813]\n",
      "[-0.4505185537801204, -0.453228680859628, -0.45593880793913577, -0.6510679576636891, -0.6537780847431967]\n",
      "[-0.44238817254159724, -0.44509829962110503, -0.4478084267006126, -0.6564882118227044, -0.6578432753624582, -0.6605534024419659]\n",
      "[-0.4342577913030743, -0.43696791838258187, -0.43967804546208966, -0.6632635295214736, -0.6659736566009813]\n",
      "[-0.4261274100645511, -0.4288375371440589, -0.4315476642235665, -0.6673287201407352, -0.6700388472202428]\n",
      "[-0.42070715590553576, -0.42341728298504355, -0.6727489742997506, -0.6754591013792581]\n",
      "[-0.4125767746670128, -0.4152869017465204, -0.4179970288260282, -0.676814164919012, -0.6795242919985197]\n",
      "[-0.40715652050799744, -0.409866647587505, -0.6822344190780274, -0.6849445461575351]\n",
      "[-0.3990261392694743, -0.4017362663489821, -0.40444639342848965, -0.6862996096972889]\n",
      "[-0.3936058851104589, -0.3963160121899667, -0.6890097367767967, -0.6917198638563042]\n",
      "[-0.38547550387193596, -0.38818563095144354, -0.39089575803095133, -0.694429990935812, -0.6957850544755658]\n",
      "[-0.3800552497129206, -0.38276537679242817, -0.6984951815550735, -0.7012053086345812]\n",
      "[-0.3746349955539052, -0.3773451226334128, -0.7039154357140889]\n",
      "[-0.36921474139488986, -0.37192486847439743, -0.7066255627935966, -0.7079806263333503]\n",
      "[-0.3624394236961206, -0.36650461431538206, -0.7106907534128581]\n",
      "[-0.3543090424575974, -0.3570191695371052, -0.359729296616613, -0.7134008804923657, -0.7161110075718735]\n",
      "[-0.3488887882985823, -0.35159891537808985, -0.7188211346513811]\n",
      "[-0.3434685341395667, -0.3461786612190745, -0.720176198191135, -0.7228863252706427]\n",
      "[-0.33804827998055154, -0.3407584070600591, -0.7255964523501504]\n",
      "[-0.33127296228178227, -0.33533815290104374, -0.728306579429658]\n",
      "[-0.3258527081227669, -0.3285628352022745, -0.7310167065091657, -0.7337268335886734]\n",
      "[-0.31772232688424373, -0.32043245396375153, -0.737792024207935, -0.7405021512874426]\n",
      "[-0.31230207272522836, -0.31501219980473616, -0.7432122783669504]\n",
      "[-0.3055267550264593, -0.3082368821059669, -0.7459224054464579]\n",
      "[-0.3001065008674437, -0.3028166279469515, -0.7486325325259657]\n",
      "[-0.29739637378793615, -0.7513426596054733, -0.7526977231452272]\n",
      "[-0.2919761196289208, -0.2946862467084286, -0.7554078502247349]\n",
      "[-0.2852008019301515, -0.289265992549413, -0.7581179773042426]\n",
      "[-0.27978054777113615, -0.28249067485064394, -0.7608281043837503]\n",
      "[-0.2716501665326132, -0.2743602936121208, -0.7662483585427656, -0.7689584856222733]\n",
      "[-0.26216472175433636, -0.26487484883384393, -0.7743787397812887]\n",
      "[-0.25674446759532077, -0.25945459467482856, -0.7757338033210426]\n",
      "[-0.24725902281704393, -0.24996914989655172, -0.781154057480058]\n",
      "[-0.24454889573753635, -0.7838641845595655, -0.7865743116390733]\n",
      "[-0.23912864157852098, -0.24183876865802856, -0.7892844387185809]\n",
      "[-0.22964319680024414, -0.23235332387975172, -0.7947046928775963]\n",
      "[-0.2188026884822134, -0.22151281556172098, -0.8028350741161194]\n",
      "[-0.20931724370393634, -0.21202737078344414, -0.8082553282751348]\n",
      "[-0.19712167184615192, -0.1998317989256595, -0.8163857095136577]\n",
      "[-0.1849260999883673, -0.18899129060762876, -0.8245160907521809]\n",
      "[-0.17137546459082875, -0.17408559167033655, -0.8353565990702116]\n",
      "[-0.15240457503427507, -0.15646976565353654, -0.84890723446775]\n",
      "[-0.1320786219379675, -0.13478874901747506, -0.8624578698652885]\n",
      "[-0.08194127096707526, -0.08465139804658284, -0.9017547125181499]\n"
     ]
    },
    {
     "ename": "KeyError",
     "evalue": "-1.5558524315844557",
     "output_type": "error",
     "traceback": [
      "\u001b[0;31m---------------------------------------------------------------------------\u001b[0m",
      "\u001b[0;31mKeyError\u001b[0m                                  Traceback (most recent call last)",
      "\u001b[0;32m<ipython-input-28-ade4bae417a6>\u001b[0m in \u001b[0;36m<module>\u001b[0;34m\u001b[0m\n\u001b[1;32m      1\u001b[0m \u001b[0mdelta\u001b[0m \u001b[0;34m=\u001b[0m \u001b[0;36m0.003\u001b[0m\u001b[0;34m\u001b[0m\u001b[0;34m\u001b[0m\u001b[0m\n\u001b[1;32m      2\u001b[0m \u001b[0;32mfor\u001b[0m \u001b[0mi\u001b[0m\u001b[0;34m,\u001b[0m \u001b[0mx_\u001b[0m \u001b[0;32min\u001b[0m \u001b[0menumerate\u001b[0m\u001b[0;34m(\u001b[0m\u001b[0mgrid_x\u001b[0m\u001b[0;34m)\u001b[0m\u001b[0;34m:\u001b[0m\u001b[0;34m\u001b[0m\u001b[0;34m\u001b[0m\u001b[0m\n\u001b[0;32m----> 3\u001b[0;31m     \u001b[0my1\u001b[0m \u001b[0;34m=\u001b[0m \u001b[0mgrid_x_dict\u001b[0m\u001b[0;34m[\u001b[0m\u001b[0mx_\u001b[0m\u001b[0;34m]\u001b[0m\u001b[0;34m[\u001b[0m\u001b[0;36m0\u001b[0m\u001b[0;34m]\u001b[0m\u001b[0;34m\u001b[0m\u001b[0;34m\u001b[0m\u001b[0m\n\u001b[0m\u001b[1;32m      4\u001b[0m     \u001b[0;32mif\u001b[0m \u001b[0mlen\u001b[0m\u001b[0;34m(\u001b[0m\u001b[0mgrid_x_dict\u001b[0m\u001b[0;34m[\u001b[0m\u001b[0mx_\u001b[0m\u001b[0;34m]\u001b[0m\u001b[0;34m)\u001b[0m \u001b[0;34m>\u001b[0m \u001b[0;36m2\u001b[0m\u001b[0;34m:\u001b[0m\u001b[0;34m\u001b[0m\u001b[0;34m\u001b[0m\u001b[0m\n\u001b[1;32m      5\u001b[0m         \u001b[0mprint\u001b[0m\u001b[0;34m(\u001b[0m\u001b[0mgrid_x_dict\u001b[0m\u001b[0;34m[\u001b[0m\u001b[0mx_\u001b[0m\u001b[0;34m]\u001b[0m\u001b[0;34m)\u001b[0m\u001b[0;34m\u001b[0m\u001b[0;34m\u001b[0m\u001b[0m\n",
      "\u001b[0;31mKeyError\u001b[0m: -1.5558524315844557"
     ]
    }
   ],
   "source": [
    "delta = 0.003\n",
    "for i, x_ in enumerate(grid_x): \n",
    "    y1 = grid_x_dict[x_][0]\n",
    "    if len(grid_x_dict[x_]) > 2:\n",
    "        print(grid_x_dict[x_])"
   ]
  },
  {
   "cell_type": "code",
   "execution_count": null,
   "metadata": {},
   "outputs": [],
   "source": []
  },
  {
   "cell_type": "code",
   "execution_count": null,
   "metadata": {},
   "outputs": [],
   "source": []
  },
  {
   "cell_type": "code",
   "execution_count": 15,
   "metadata": {},
   "outputs": [
    {
     "data": {
      "text/plain": [
       "[<matplotlib.lines.Line2D at 0x7f9ab9cc1210>]"
      ]
     },
     "execution_count": 15,
     "metadata": {},
     "output_type": "execute_result"
    },
    {
     "data": {
      "image/png": "[encoded data removed]",
      "text/plain": [
       "<Figure size 432x288 with 1 Axes>"
      ]
     },
     "metadata": {
      "needs_background": "light"
     },
     "output_type": "display_data"
    }
   ],
   "source": [
    "# plt.plot(oval[0], oval[1])\n",
    "plt.plot(new_x, new_y)"
   ]
  },
  {
   "cell_type": "code",
   "execution_count": 15,
   "metadata": {},
   "outputs": [
    {
     "data": {
      "text/plain": [
       "<matplotlib.collections.PathCollection at 0x7fca0031cd90>"
      ]
     },
     "execution_count": 15,
     "metadata": {},
     "output_type": "execute_result"
    },
    {
     "data": {
      "image/png": "[encoded data removed]",
      "text/plain": [
       "<Figure size 432x288 with 1 Axes>"
      ]
     },
     "metadata": {
      "needs_background": "light"
     },
     "output_type": "display_data"
    }
   ],
   "source": [
    "plt.plot(oval[0], oval[1])\n",
    "plt.scatter(x[x_min_idx - 10], y[x_min_idx - 10])"
   ]
  },
  {
   "cell_type": "code",
   "execution_count": null,
   "metadata": {},
   "outputs": [],
   "source": [
    "for i in range(x_max_idx, x_min_idx):\n",
    "    x_ = x[i]\n",
    "    diff = np.inf\n",
    "    for y_ in y_limit:\n",
    "        if y_ > y[i]:\n",
    "            continue\n",
    "            \n",
    "        "
   ]
  }
 ],
 "metadata": {
  "kernelspec": {
   "display_name": "Python 3",
   "language": "python",
   "name": "python3"
  },
  "language_info": {
   "codemirror_mode": {
    "name": "ipython",
    "version": 3
   },
   "file_extension": ".py",
   "mimetype": "text/x-python",
   "name": "python",
   "nbconvert_exporter": "python",
   "pygments_lexer": "ipython3",
   "version": "3.8.10"
  }
 },
 "nbformat": 4,
 "nbformat_minor": 4
}
