{
 "cells": [
  {
   "cell_type": "code",
   "execution_count": 18,
   "metadata": {
    "collapsed": true
   },
   "outputs": [],
   "source": [
    "from collections import namedtuple\n",
    "\n",
    "import pandas as pd\n",
    "from pyspark.sql import SparkSession\n",
    "import pyspark.sql.functions as spf\n",
    "from pyspark.sql.types import *"
   ]
  },
  {
   "cell_type": "code",
   "execution_count": 2,
   "metadata": {
    "collapsed": true
   },
   "outputs": [],
   "source": [
    "spark = SparkSession.builder.appName(\"anokhin\").getOrCreate()"
   ]
  },
  {
   "cell_type": "code",
   "execution_count": 3,
   "metadata": {},
   "outputs": [
    {
     "name": "stdout",
     "output_type": "stream",
     "text": [
      "root\n",
      " |-- experiments: struct (nullable = true)\n",
      " |    |-- AA: string (nullable = true)\n",
      " |    |-- PERSONALIZED: string (nullable = true)\n",
      " |-- latency: double (nullable = true)\n",
      " |-- message: string (nullable = true)\n",
      " |-- recommendation: long (nullable = true)\n",
      " |-- time: double (nullable = true)\n",
      " |-- timestamp: long (nullable = true)\n",
      " |-- track: long (nullable = true)\n",
      " |-- user: long (nullable = true)\n",
      "\n"
     ]
    }
   ],
   "source": [
    "data = spark.read.json(\"/user/anokhin/week{1,2}/\")\n",
    "\n",
    "data.printSchema()"
   ]
  },
  {
   "cell_type": "code",
   "execution_count": 13,
   "metadata": {},
   "outputs": [
    {
     "name": "stdout",
     "output_type": "stream",
     "text": [
      "+-------+------+\n",
      "|message| count|\n",
      "+-------+------+\n",
      "|   next|916001|\n",
      "|   last|150001|\n",
      "+-------+------+\n",
      "\n"
     ]
    }
   ],
   "source": [
    "data.groupBy(\"message\").count().show()"
   ]
  },
  {
   "cell_type": "markdown",
   "metadata": {},
   "source": [
    "## Save data for Torch"
   ]
  },
  {
   "cell_type": "code",
   "execution_count": 38,
   "metadata": {},
   "outputs": [],
   "source": [
    "Pair = namedtuple(\"Pair\", [\"start\", \"track\", \"time\"])\n",
    "\n",
    "schema = ArrayType(StructType([\n",
    "    StructField(\"start\", LongType(), False),\n",
    "    StructField(\"track\", LongType(), False),\n",
    "    StructField(\"time\", FloatType(), False)\n",
    "]))\n",
    "\n",
    "def collect_pairs(tracks):\n",
    "    pairs = []\n",
    "    start_track = tracks[0][\"track\"]\n",
    "    for prev, current in zip(tracks[:-1], tracks[1:]):\n",
    "        if prev[\"message\"] != \"last\":\n",
    "            pairs.append(Pair(start=start_track, track=current[\"track\"], time=current[\"time\"]))\n",
    "        else:\n",
    "            start_track = current[\"track\"]\n",
    "    return pairs\n",
    "            \n",
    "collect_pairs_udf = spf.udf(collect_pairs, schema)\n",
    "\n",
    "(\n",
    "    data\n",
    "        .groupBy(\"user\")\n",
    "        .agg(\n",
    "            spf.sort_array(spf.collect_list(spf.struct(\n",
    "                spf.col(\"timestamp\"),\n",
    "                spf.col(\"track\"),\n",
    "                spf.col(\"time\"),\n",
    "                spf.col(\"message\")\n",
    "            ))).alias(\"history\")\n",
    "        )\n",
    "        .select(\n",
    "            spf.col(\"user\"),\n",
    "            spf.explode(collect_pairs_udf(spf.col(\"history\"))).alias(\"pair\")\n",
    "        )\n",
    "        .select(\n",
    "            spf.col(\"user\"),\n",
    "            spf.col(\"pair.*\")\n",
    "        )\n",
    "        .toPandas()\n",
    "        .to_pickle(\"pairs.pkl\")\n",
    ")"
   ]
  },
  {
   "cell_type": "code",
   "execution_count": 39,
   "metadata": {},
   "outputs": [
    {
     "data": {
      "text/html": [
       "<div>\n",
       "<style scoped>\n",
       "    .dataframe tbody tr th:only-of-type {\n",
       "        vertical-align: middle;\n",
       "    }\n",
       "\n",
       "    .dataframe tbody tr th {\n",
       "        vertical-align: top;\n",
       "    }\n",
       "\n",
       "    .dataframe thead th {\n",
       "        text-align: right;\n",
       "    }\n",
       "</style>\n",
       "<table border=\"1\" class=\"dataframe\">\n",
       "  <thead>\n",
       "    <tr style=\"text-align: right;\">\n",
       "      <th></th>\n",
       "      <th>user</th>\n",
       "      <th>start</th>\n",
       "      <th>track</th>\n",
       "      <th>time</th>\n",
       "    </tr>\n",
       "  </thead>\n",
       "  <tbody>\n",
       "    <tr>\n",
       "      <th>0</th>\n",
       "      <td>26</td>\n",
       "      <td>11761</td>\n",
       "      <td>7287</td>\n",
       "      <td>0.78</td>\n",
       "    </tr>\n",
       "    <tr>\n",
       "      <th>1</th>\n",
       "      <td>26</td>\n",
       "      <td>11761</td>\n",
       "      <td>22875</td>\n",
       "      <td>0.24</td>\n",
       "    </tr>\n",
       "    <tr>\n",
       "      <th>2</th>\n",
       "      <td>26</td>\n",
       "      <td>11761</td>\n",
       "      <td>27161</td>\n",
       "      <td>0.50</td>\n",
       "    </tr>\n",
       "    <tr>\n",
       "      <th>3</th>\n",
       "      <td>26</td>\n",
       "      <td>11761</td>\n",
       "      <td>5475</td>\n",
       "      <td>0.00</td>\n",
       "    </tr>\n",
       "    <tr>\n",
       "      <th>4</th>\n",
       "      <td>26</td>\n",
       "      <td>11761</td>\n",
       "      <td>21522</td>\n",
       "      <td>0.87</td>\n",
       "    </tr>\n",
       "  </tbody>\n",
       "</table>\n",
       "</div>"
      ],
      "text/plain": [
       "   user  start  track  time\n",
       "0    26  11761   7287  0.78\n",
       "1    26  11761  22875  0.24\n",
       "2    26  11761  27161  0.50\n",
       "3    26  11761   5475  0.00\n",
       "4    26  11761  21522  0.87"
      ]
     },
     "execution_count": 39,
     "metadata": {},
     "output_type": "execute_result"
    }
   ],
   "source": [
    "pd.read_pickle(\"pairs.pkl\").head()"
   ]
  },
  {
   "cell_type": "code",
   "execution_count": null,
   "metadata": {
    "collapsed": true
   },
   "outputs": [],
   "source": []
  }
 ],
 "metadata": {
  "kernelspec": {
   "display_name": "Python 3",
   "language": "python",
   "name": "python3"
  },
  "language_info": {
   "codemirror_mode": {
    "name": "ipython",
    "version": 3
   },
   "file_extension": ".py",
   "mimetype": "text/x-python",
   "name": "python",
   "nbconvert_exporter": "python",
   "pygments_lexer": "ipython3",
   "version": "3.4.3"
  }
 },
 "nbformat": 4,
 "nbformat_minor": 2
}
