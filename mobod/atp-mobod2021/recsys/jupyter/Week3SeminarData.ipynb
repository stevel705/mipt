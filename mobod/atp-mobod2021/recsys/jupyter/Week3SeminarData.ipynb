{
 "cells": [
  {
   "cell_type": "code",
   "execution_count": 1,
   "metadata": {
    "collapsed": true
   },
   "outputs": [],
   "source": [
    "import pandas as pd\n",
    "from pyspark.sql import SparkSession\n",
    "import pyspark.sql.functions as spf"
   ]
  },
  {
   "cell_type": "code",
   "execution_count": 2,
   "metadata": {
    "collapsed": true
   },
   "outputs": [],
   "source": [
    "spark = SparkSession.builder.appName(\"anokhin\").getOrCreate()"
   ]
  },
  {
   "cell_type": "code",
   "execution_count": 5,
   "metadata": {},
   "outputs": [
    {
     "name": "stdout",
     "output_type": "stream",
     "text": [
      "root\n",
      " |-- experiments: struct (nullable = true)\n",
      " |    |-- AA: string (nullable = true)\n",
      " |    |-- PERSONALIZED: string (nullable = true)\n",
      " |-- latency: double (nullable = true)\n",
      " |-- message: string (nullable = true)\n",
      " |-- recommendation: long (nullable = true)\n",
      " |-- time: double (nullable = true)\n",
      " |-- timestamp: long (nullable = true)\n",
      " |-- track: long (nullable = true)\n",
      " |-- user: long (nullable = true)\n",
      "\n"
     ]
    }
   ],
   "source": [
    "data = spark.read.json(\"/user/anokhin/week3/\")\n",
    "\n",
    "data.printSchema()"
   ]
  },
  {
   "cell_type": "code",
   "execution_count": 6,
   "metadata": {},
   "outputs": [
    {
     "data": {
      "text/plain": [
       "355400"
      ]
     },
     "execution_count": 6,
     "metadata": {},
     "output_type": "execute_result"
    }
   ],
   "source": [
    "data.count()"
   ]
  },
  {
   "cell_type": "markdown",
   "metadata": {},
   "source": [
    "## Save data for LightFM"
   ]
  },
  {
   "cell_type": "code",
   "execution_count": 7,
   "metadata": {
    "collapsed": true
   },
   "outputs": [],
   "source": [
    "(\n",
    "    data\n",
    "        .filter(spf.col(\"time\") > 0.5)\n",
    "        .select(\"user\", \"track\")\n",
    "        .dropDuplicates()\n",
    "        .toPandas()\n",
    "        .to_pickle(\"user-item.pkl\")\n",
    ")"
   ]
  },
  {
   "cell_type": "code",
   "execution_count": null,
   "metadata": {
    "collapsed": true
   },
   "outputs": [],
   "source": []
  }
 ],
 "metadata": {
  "kernelspec": {
   "display_name": "Python 3",
   "language": "python",
   "name": "python3"
  },
  "language_info": {
   "codemirror_mode": {
    "name": "ipython",
    "version": 3
   },
   "file_extension": ".py",
   "mimetype": "text/x-python",
   "name": "python",
   "nbconvert_exporter": "python",
   "pygments_lexer": "ipython3",
   "version": "3.4.3"
  }
 },
 "nbformat": 4,
 "nbformat_minor": 2
}
