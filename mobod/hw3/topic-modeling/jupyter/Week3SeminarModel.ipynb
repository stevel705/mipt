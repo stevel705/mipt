{
 "cells": [
  {
   "cell_type": "code",
   "execution_count": 1,
   "metadata": {},
   "outputs": [],
   "source": [
    "import pandas as pd\n",
    "import numpy as np\n",
    "import scipy.stats as ss\n",
    "\n",
    "import lightfm\n",
    "import lightfm.data as ld\n",
    "import lightfm.evaluation as lv\n",
    "\n",
    "import tqdm\n",
    "import json\n",
    "import optuna\n",
    "\n",
    "import tensorboardX as tb\n",
    "\n",
    "import matplotlib.pyplot as pl\n",
    "import seaborn as sns\n",
    "\n",
    "np.random.seed(31337)"
   ]
  },
  {
   "cell_type": "code",
   "execution_count": null,
   "metadata": {},
   "outputs": [],
   "source": [
    "!sudo apt update\n",
    "!sudo apt install -y gcc\n",
    "!pip install lightfm\n",
    "!pip install optuna\n",
    "!pip install tensorboard\n",
    "!pip install tensorboardX"
   ]
  },
  {
   "cell_type": "code",
   "execution_count": 2,
   "metadata": {},
   "outputs": [],
   "source": [
    "DATA_DIR = \"data/\""
   ]
  },
  {
   "cell_type": "code",
   "execution_count": 3,
   "metadata": {},
   "outputs": [],
   "source": [
    "data = pd.read_pickle(DATA_DIR + \"user-item.pkl\")\n",
    "data[\"test\"] = np.random.random(len(data)) > 0.8"
   ]
  },
  {
   "cell_type": "markdown",
   "metadata": {},
   "source": [
    "## Train LightFM"
   ]
  },
  {
   "cell_type": "code",
   "execution_count": 6,
   "metadata": {},
   "outputs": [],
   "source": [
    "train_data = data[~data[\"test\"]]\n",
    "test_data = data[data[\"test\"]]"
   ]
  },
  {
   "cell_type": "code",
   "execution_count": 7,
   "metadata": {},
   "outputs": [],
   "source": [
    "dataset = ld.Dataset()\n",
    "dataset.fit(data[\"user\"], data[\"track\"])"
   ]
  },
  {
   "cell_type": "code",
   "execution_count": 8,
   "metadata": {},
   "outputs": [],
   "source": [
    "train_interactions, _ = dataset.build_interactions(train_data[[\"user\", \"track\"]].itertuples(index=False, name=None))\n",
    "test_interactions, _ = dataset.build_interactions(test_data[[\"user\", \"track\"]].itertuples(index=False, name=None))"
   ]
  },
  {
   "cell_type": "code",
   "execution_count": 9,
   "metadata": {},
   "outputs": [],
   "source": [
    "def fit_model(epochs=1, at=10, loss=\"warp\", no_components=30, learning_rate=0.01, max_sampled=10, user_alpha=0.0, item_alpha=0.0, threads=30, verbose=False):\n",
    "    model = lightfm.LightFM(\n",
    "        no_components=no_components,\n",
    "        loss=loss,\n",
    "        learning_rate=learning_rate,\n",
    "        max_sampled=max_sampled,\n",
    "        user_alpha=user_alpha,\n",
    "        item_alpha=user_alpha,\n",
    "    )\n",
    "\n",
    "    precisions_at = []\n",
    "    for epoch in range(epochs):\n",
    "        model = model.fit_partial(train_interactions, num_threads=threads)\n",
    "        precision_at = lv.precision_at_k(model, test_interactions, train_interactions=train_interactions, k=at, num_threads=threads)\n",
    "        if verbose:\n",
    "            print(f\"{epoch}:\\t{np.mean(precision_at)} +/- {ss.sem(precision_at) * 1.96}\")\n",
    "        precisions_at.append(np.mean(precision_at))\n",
    "            \n",
    "    return model, precisions_at\n",
    "\n",
    "\n",
    "def objective(trial):\n",
    "    loss = trial.suggest_categorical(\"loss\", [\"warp\", \"bpr\"])\n",
    "    no_components = trial.suggest_categorical(\"no_components\", [10, 30, 50])\n",
    "    learning_rate = trial.suggest_categorical(\"learning_rate\", [0.001, 0.01])\n",
    "    max_sampled = trial.suggest_categorical(\"max_sampled\", [10, 20, 50, 100])\n",
    "    user_alpha = trial.suggest_categorical(\"user_alpha\", [0.0, 0.001, 0.01])\n",
    "    item_alpha = trial.suggest_categorical(\"item_alpha\", [0.0, 0.001, 0.01])\n",
    "    \n",
    "    model, precisions_at = fit_model(\n",
    "        epochs=1, \n",
    "        at=10,\n",
    "        loss=loss,\n",
    "        no_components=no_components, \n",
    "        learning_rate=learning_rate, \n",
    "        max_sampled=max_sampled, \n",
    "        user_alpha=user_alpha, \n",
    "        item_alpha=item_alpha,\n",
    "    )\n",
    "    \n",
    "    return precisions_at[-1]"
   ]
  },
  {
   "cell_type": "code",
   "execution_count": 10,
   "metadata": {},
   "outputs": [
    {
     "name": "stderr",
     "output_type": "stream",
     "text": [
      "\u001b[32m[I 2021-10-14 12:28:21,431]\u001b[0m A new study created in memory with name: no-name-32fd1d29-5fce-4303-96f4-f44de0f3c046\u001b[0m\n",
      "\u001b[32m[I 2021-10-14 12:28:22,911]\u001b[0m Trial 0 finished with value: 0.0024627947714179754 and parameters: {'loss': 'warp', 'no_components': 50, 'learning_rate': 0.001, 'max_sampled': 100, 'user_alpha': 0.0, 'item_alpha': 0.001}. Best is trial 0 with value: 0.0024627947714179754.\u001b[0m\n",
      "\u001b[32m[I 2021-10-14 12:28:23,859]\u001b[0m Trial 1 finished with value: 0.0001580403040861711 and parameters: {'loss': 'bpr', 'no_components': 10, 'learning_rate': 0.001, 'max_sampled': 10, 'user_alpha': 0.001, 'item_alpha': 0.0}. Best is trial 0 with value: 0.0024627947714179754.\u001b[0m\n",
      "\u001b[32m[I 2021-10-14 12:28:24,932]\u001b[0m Trial 2 finished with value: 0.0007638614624738693 and parameters: {'loss': 'bpr', 'no_components': 30, 'learning_rate': 0.01, 'max_sampled': 10, 'user_alpha': 0.001, 'item_alpha': 0.01}. Best is trial 0 with value: 0.0024627947714179754.\u001b[0m\n",
      "\u001b[32m[I 2021-10-14 12:28:25,716]\u001b[0m Trial 3 finished with value: 0.0018701436929404736 and parameters: {'loss': 'warp', 'no_components': 10, 'learning_rate': 0.001, 'max_sampled': 50, 'user_alpha': 0.0, 'item_alpha': 0.001}. Best is trial 0 with value: 0.0024627947714179754.\u001b[0m\n",
      "\u001b[32m[I 2021-10-14 12:28:26,637]\u001b[0m Trial 4 finished with value: 0.0006058212020434439 and parameters: {'loss': 'bpr', 'no_components': 30, 'learning_rate': 0.001, 'max_sampled': 50, 'user_alpha': 0.001, 'item_alpha': 0.001}. Best is trial 0 with value: 0.0024627947714179754.\u001b[0m\n",
      "\u001b[32m[I 2021-10-14 12:28:27,812]\u001b[0m Trial 5 finished with value: 0.0020808640401810408 and parameters: {'loss': 'warp', 'no_components': 50, 'learning_rate': 0.001, 'max_sampled': 20, 'user_alpha': 0.0, 'item_alpha': 0.001}. Best is trial 0 with value: 0.0024627947714179754.\u001b[0m\n",
      "\u001b[32m[I 2021-10-14 12:28:28,652]\u001b[0m Trial 6 finished with value: 0.0020413538441061974 and parameters: {'loss': 'warp', 'no_components': 10, 'learning_rate': 0.001, 'max_sampled': 50, 'user_alpha': 0.0, 'item_alpha': 0.0}. Best is trial 0 with value: 0.0024627947714179754.\u001b[0m\n",
      "\u001b[32m[I 2021-10-14 12:28:29,643]\u001b[0m Trial 7 finished with value: 0.000368760694982484 and parameters: {'loss': 'bpr', 'no_components': 30, 'learning_rate': 0.01, 'max_sampled': 10, 'user_alpha': 0.01, 'item_alpha': 0.001}. Best is trial 0 with value: 0.0024627947714179754.\u001b[0m\n",
      "\u001b[32m[I 2021-10-14 12:28:30,860]\u001b[0m Trial 8 finished with value: 0.0006848413613624871 and parameters: {'loss': 'bpr', 'no_components': 50, 'learning_rate': 0.001, 'max_sampled': 10, 'user_alpha': 0.001, 'item_alpha': 0.01}. Best is trial 0 with value: 0.0024627947714179754.\u001b[0m\n",
      "\u001b[32m[I 2021-10-14 12:28:31,627]\u001b[0m Trial 9 finished with value: 0.0006716713542118669 and parameters: {'loss': 'bpr', 'no_components': 10, 'learning_rate': 0.01, 'max_sampled': 10, 'user_alpha': 0.0, 'item_alpha': 0.001}. Best is trial 0 with value: 0.0024627947714179754.\u001b[0m\n",
      "\u001b[32m[I 2021-10-14 12:28:32,927]\u001b[0m Trial 10 finished with value: 0.002423284575343132 and parameters: {'loss': 'warp', 'no_components': 50, 'learning_rate': 0.001, 'max_sampled': 100, 'user_alpha': 0.01, 'item_alpha': 0.0}. Best is trial 0 with value: 0.0024627947714179754.\u001b[0m\n",
      "\u001b[32m[I 2021-10-14 12:28:34,230]\u001b[0m Trial 11 finished with value: 0.002436454640701413 and parameters: {'loss': 'warp', 'no_components': 50, 'learning_rate': 0.001, 'max_sampled': 100, 'user_alpha': 0.01, 'item_alpha': 0.0}. Best is trial 0 with value: 0.0024627947714179754.\u001b[0m\n",
      "\u001b[32m[I 2021-10-14 12:28:35,492]\u001b[0m Trial 12 finished with value: 0.0021862240973860025 and parameters: {'loss': 'warp', 'no_components': 50, 'learning_rate': 0.001, 'max_sampled': 100, 'user_alpha': 0.01, 'item_alpha': 0.0}. Best is trial 0 with value: 0.0024627947714179754.\u001b[0m\n",
      "\u001b[32m[I 2021-10-14 12:28:36,728]\u001b[0m Trial 13 finished with value: 0.0024232848081737757 and parameters: {'loss': 'warp', 'no_components': 50, 'learning_rate': 0.001, 'max_sampled': 100, 'user_alpha': 0.01, 'item_alpha': 0.0}. Best is trial 0 with value: 0.0024627947714179754.\u001b[0m\n",
      "\u001b[32m[I 2021-10-14 12:28:37,799]\u001b[0m Trial 14 finished with value: 0.0023969446774572134 and parameters: {'loss': 'warp', 'no_components': 50, 'learning_rate': 0.001, 'max_sampled': 100, 'user_alpha': 0.01, 'item_alpha': 0.01}. Best is trial 0 with value: 0.0024627947714179754.\u001b[0m\n",
      "\u001b[32m[I 2021-10-14 12:28:38,938]\u001b[0m Trial 15 finished with value: 0.0024627947714179754 and parameters: {'loss': 'warp', 'no_components': 50, 'learning_rate': 0.01, 'max_sampled': 100, 'user_alpha': 0.0, 'item_alpha': 0.001}. Best is trial 0 with value: 0.0024627947714179754.\u001b[0m\n",
      "\u001b[32m[I 2021-10-14 12:28:40,284]\u001b[0m Trial 16 finished with value: 0.002436454640701413 and parameters: {'loss': 'warp', 'no_components': 50, 'learning_rate': 0.01, 'max_sampled': 20, 'user_alpha': 0.0, 'item_alpha': 0.001}. Best is trial 0 with value: 0.0024627947714179754.\u001b[0m\n",
      "\u001b[32m[I 2021-10-14 12:28:41,568]\u001b[0m Trial 17 finished with value: 0.002344264416024089 and parameters: {'loss': 'warp', 'no_components': 50, 'learning_rate': 0.01, 'max_sampled': 100, 'user_alpha': 0.0, 'item_alpha': 0.001}. Best is trial 0 with value: 0.0024627947714179754.\u001b[0m\n",
      "\u001b[32m[I 2021-10-14 12:28:42,773]\u001b[0m Trial 18 finished with value: 0.002436454640701413 and parameters: {'loss': 'warp', 'no_components': 50, 'learning_rate': 0.01, 'max_sampled': 100, 'user_alpha': 0.0, 'item_alpha': 0.001}. Best is trial 0 with value: 0.0024627947714179754.\u001b[0m\n",
      "\u001b[32m[I 2021-10-14 12:28:43,794]\u001b[0m Trial 19 finished with value: 0.0023837746120989323 and parameters: {'loss': 'warp', 'no_components': 30, 'learning_rate': 0.01, 'max_sampled': 100, 'user_alpha': 0.0, 'item_alpha': 0.001}. Best is trial 0 with value: 0.0024627947714179754.\u001b[0m\n",
      "\u001b[32m[I 2021-10-14 12:28:45,027]\u001b[0m Trial 20 finished with value: 0.002212563995271921 and parameters: {'loss': 'warp', 'no_components': 50, 'learning_rate': 0.01, 'max_sampled': 20, 'user_alpha': 0.0, 'item_alpha': 0.001}. Best is trial 0 with value: 0.0024627947714179754.\u001b[0m\n",
      "\u001b[32m[I 2021-10-14 12:28:46,234]\u001b[0m Trial 21 finished with value: 0.0022520741913467646 and parameters: {'loss': 'warp', 'no_components': 50, 'learning_rate': 0.01, 'max_sampled': 100, 'user_alpha': 0.0, 'item_alpha': 0.001}. Best is trial 0 with value: 0.0024627947714179754.\u001b[0m\n",
      "\u001b[32m[I 2021-10-14 12:28:47,349]\u001b[0m Trial 22 finished with value: 0.002304754452779889 and parameters: {'loss': 'warp', 'no_components': 50, 'learning_rate': 0.01, 'max_sampled': 100, 'user_alpha': 0.0, 'item_alpha': 0.001}. Best is trial 0 with value: 0.0024627947714179754.\u001b[0m\n",
      "\u001b[32m[I 2021-10-14 12:28:48,562]\u001b[0m Trial 23 finished with value: 0.0022652444895356894 and parameters: {'loss': 'warp', 'no_components': 50, 'learning_rate': 0.01, 'max_sampled': 100, 'user_alpha': 0.0, 'item_alpha': 0.001}. Best is trial 0 with value: 0.0024627947714179754.\u001b[0m\n",
      "\u001b[32m[I 2021-10-14 12:28:49,678]\u001b[0m Trial 24 finished with value: 0.0024627947714179754 and parameters: {'loss': 'warp', 'no_components': 50, 'learning_rate': 0.01, 'max_sampled': 100, 'user_alpha': 0.0, 'item_alpha': 0.001}. Best is trial 0 with value: 0.0024627947714179754.\u001b[0m\n",
      "\u001b[32m[I 2021-10-14 12:28:50,804]\u001b[0m Trial 25 finished with value: 0.002502304734662175 and parameters: {'loss': 'warp', 'no_components': 50, 'learning_rate': 0.01, 'max_sampled': 100, 'user_alpha': 0.0, 'item_alpha': 0.01}. Best is trial 25 with value: 0.002502304734662175.\u001b[0m\n",
      "\u001b[32m[I 2021-10-14 12:28:52,093]\u001b[0m Trial 26 finished with value: 0.002159884199500084 and parameters: {'loss': 'warp', 'no_components': 50, 'learning_rate': 0.01, 'max_sampled': 100, 'user_alpha': 0.0, 'item_alpha': 0.01}. Best is trial 25 with value: 0.002502304734662175.\u001b[0m\n",
      "\u001b[32m[I 2021-10-14 12:28:53,338]\u001b[0m Trial 27 finished with value: 0.002291584387421608 and parameters: {'loss': 'warp', 'no_components': 50, 'learning_rate': 0.01, 'max_sampled': 100, 'user_alpha': 0.0, 'item_alpha': 0.01}. Best is trial 25 with value: 0.002502304734662175.\u001b[0m\n",
      "\u001b[32m[I 2021-10-14 12:28:54,178]\u001b[0m Trial 28 finished with value: 0.0024891349021345377 and parameters: {'loss': 'warp', 'no_components': 10, 'learning_rate': 0.01, 'max_sampled': 50, 'user_alpha': 0.0, 'item_alpha': 0.01}. Best is trial 25 with value: 0.002502304734662175.\u001b[0m\n",
      "\u001b[32m[I 2021-10-14 12:28:54,977]\u001b[0m Trial 29 finished with value: 0.0024232848081737757 and parameters: {'loss': 'warp', 'no_components': 10, 'learning_rate': 0.01, 'max_sampled': 50, 'user_alpha': 0.0, 'item_alpha': 0.01}. Best is trial 25 with value: 0.002502304734662175.\u001b[0m\n"
     ]
    }
   ],
   "source": [
    "study = optuna.create_study(direction=\"maximize\")\n",
    "study.optimize(objective, n_trials=30)\n",
    "best_params = study.best_params"
   ]
  },
  {
   "cell_type": "code",
   "execution_count": 11,
   "metadata": {},
   "outputs": [
    {
     "data": {
      "text/plain": [
       "{'loss': 'warp',\n",
       " 'no_components': 50,\n",
       " 'learning_rate': 0.01,\n",
       " 'max_sampled': 100,\n",
       " 'user_alpha': 0.0,\n",
       " 'item_alpha': 0.01}"
      ]
     },
     "execution_count": 11,
     "metadata": {},
     "output_type": "execute_result"
    }
   ],
   "source": [
    "best_params"
   ]
  },
  {
   "cell_type": "code",
   "execution_count": 13,
   "metadata": {
    "tags": []
   },
   "outputs": [
    {
     "name": "stdout",
     "output_type": "stream",
     "text": [
      "0:\t0.002436454640701413 +/- 0.00035442013827443155\n",
      "1:\t0.0023837746120989323 +/- 0.0003508225131919655\n",
      "2:\t0.0024101147428154945 +/- 0.0003526264580751683\n",
      "3:\t0.002436454640701413 +/- 0.00035442013827443155\n",
      "4:\t0.002436454640701413 +/- 0.00035442013827443155\n",
      "5:\t0.002502304734662175 +/- 0.0003588608081333522\n",
      "6:\t0.002765705343335867 +/- 0.00037956928427300565\n",
      "7:\t0.0031212959438562393 +/- 0.0004045644600124867\n",
      "8:\t0.003582246834412217 +/- 0.00043370367719337035\n",
      "9:\t0.003871987573802471 +/- 0.00045497071972601123\n",
      "10:\t0.0041880677454173565 +/- 0.00047508057625697845\n",
      "11:\t0.004438298754394054 +/- 0.000489833482774912\n",
      "12:\t0.0048333993181586266 +/- 0.0005106280984663194\n",
      "13:\t0.005070459563285112 +/- 0.0005223804493337149\n",
      "14:\t0.005228499881923199 +/- 0.0005292019812099094\n",
      "15:\t0.005347029771655798 +/- 0.0005342454184477613\n",
      "16:\t0.005570921115577221 +/- 0.0005436085698607238\n",
      "17:\t0.00576847093179822 +/- 0.0005504907681138345\n",
      "18:\t0.0057157911360263824 +/- 0.0005483434381303524\n",
      "19:\t0.005794811528176069 +/- 0.0005527672236316091\n",
      "20:\t0.0058738309890031815 +/- 0.0005559527949730738\n",
      "21:\t0.0058474913239479065 +/- 0.0005536913803595207\n",
      "22:\t0.0059133414179086685 +/- 0.0005575366147566098\n",
      "23:\t0.005887001287192106 +/- 0.0005600624811457808\n",
      "24:\t0.0059791915118694305 +/- 0.0005637210239851778\n",
      "25:\t0.006005531642585993 +/- 0.0005659392850295156\n",
      "26:\t0.005992361344397068 +/- 0.0005642410454425555\n",
      "27:\t0.0060713812708854675 +/- 0.0005673483119093956\n",
      "28:\t0.006124061532318592 +/- 0.0005682357252584705\n",
      "29:\t0.00609772140160203 +/- 0.0005672053604742867\n"
     ]
    }
   ],
   "source": [
    "model, precisions_at = fit_model(\n",
    "    epochs=30,\n",
    "    at=10,\n",
    "    loss=best_params[\"loss\"],\n",
    "    no_components=best_params[\"no_components\"], \n",
    "    learning_rate=best_params[\"learning_rate\"], \n",
    "    max_sampled=best_params[\"max_sampled\"],\n",
    "    user_alpha=best_params[\"user_alpha\"],\n",
    "    item_alpha=best_params[\"item_alpha\"],\n",
    "    verbose=True,\n",
    ")"
   ]
  },
  {
   "cell_type": "code",
   "execution_count": 14,
   "metadata": {},
   "outputs": [
    {
     "data": {
      "image/png": "[encoded data removed]",
      "text/plain": [
       "<Figure size 432x288 with 1 Axes>"
      ]
     },
     "metadata": {
      "needs_background": "light"
     },
     "output_type": "display_data"
    }
   ],
   "source": [
    "figure, ax = pl.subplots()\n",
    "\n",
    "ax.plot(np.arange(len(precisions_at)), precisions_at)\n",
    "\n",
    "pass"
   ]
  },
  {
   "cell_type": "markdown",
   "metadata": {},
   "source": [
    "## Save track embeddings"
   ]
  },
  {
   "cell_type": "code",
   "execution_count": 15,
   "metadata": {},
   "outputs": [],
   "source": [
    "biases, embeddings = model.get_item_representations()"
   ]
  },
  {
   "cell_type": "code",
   "execution_count": 16,
   "metadata": {},
   "outputs": [],
   "source": [
    "track_meta = pd.read_json(DATA_DIR + \"tracks.json\", lines=True)\n",
    "track_meta[\"dataset_index\"] = track_meta[\"track\"].map(lambda t: dataset.mapping()[2].get(t))"
   ]
  },
  {
   "cell_type": "code",
   "execution_count": 17,
   "metadata": {},
   "outputs": [],
   "source": [
    "dataset_tracks = track_meta[pd.notnull(track_meta[\"dataset_index\"])].sort_values(\"dataset_index\")"
   ]
  },
  {
   "cell_type": "code",
   "execution_count": 19,
   "metadata": {},
   "outputs": [],
   "source": [
    "writer = tb.SummaryWriter(comment='msd_ligtfm_embeddings', log_dir=DATA_DIR + \"tb\")\n",
    "writer.add_embedding(embeddings, metadata=list(dataset_tracks[[\"artist\", \"title\"]].itertuples(index=False, name=None)), tag=\"lightfm\", metadata_header=[\"artist\", \"title\"])\n",
    "writer.close()"
   ]
  },
  {
   "cell_type": "markdown",
   "metadata": {},
   "source": [
    "## Compute top recommendations"
   ]
  },
  {
   "cell_type": "code",
   "execution_count": 20,
   "metadata": {},
   "outputs": [],
   "source": [
    "tracks = dataset_tracks[\"track\"].values\n",
    "users = [user for user, index in sorted(dataset.mapping()[0].items(), key=lambda kv: kv[1])]"
   ]
  },
  {
   "cell_type": "code",
   "execution_count": 22,
   "metadata": {},
   "outputs": [
    {
     "name": "stderr",
     "output_type": "stream",
     "text": [
      "100%|██████████| 9930/9930 [00:39<00:00, 251.43it/s]\n"
     ]
    }
   ],
   "source": [
    "with open(DATA_DIR + \"recommendations.json\", \"w\") as rf:\n",
    "    for user_index in tqdm.tqdm(range(dataset.user_features_shape()[0])):\n",
    "        predictions = model.predict(user_index, np.arange(dataset.item_features_shape()[0]), num_threads=30)\n",
    "        top = tracks[np.argsort(predictions)[-100:]]\n",
    "        recommendation = {\n",
    "            \"user\": users[user_index],\n",
    "            \"tracks\": top.tolist()\n",
    "        }\n",
    "        rf.write(json.dumps(recommendation) + \"\\n\")"
   ]
  },
  {
   "cell_type": "code",
   "execution_count": null,
   "metadata": {},
   "outputs": [],
   "source": []
  }
 ],
 "metadata": {
  "kernelspec": {
   "display_name": "Python 3",
   "language": "python",
   "name": "python3"
  },
  "language_info": {
   "codemirror_mode": {
    "name": "ipython",
    "version": 3
   },
   "file_extension": ".py",
   "mimetype": "text/x-python",
   "name": "python",
   "nbconvert_exporter": "python",
   "pygments_lexer": "ipython3",
   "version": "3.6.12"
  }
 },
 "nbformat": 4,
 "nbformat_minor": 4
}
