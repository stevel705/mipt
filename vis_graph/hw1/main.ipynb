{
 "cells": [
  {
   "cell_type": "code",
   "execution_count": 1,
   "metadata": {},
   "outputs": [],
   "source": [
    "import pandas as pd\n",
    "import json"
   ]
  },
  {
   "cell_type": "code",
   "execution_count": 2,
   "metadata": {},
   "outputs": [],
   "source": [
    "df = pd.read_csv('data/data_set.csv', sep=';')"
   ]
  },
  {
   "cell_type": "code",
   "execution_count": 3,
   "metadata": {},
   "outputs": [],
   "source": [
    "with open('data/templates.json') as file:\n",
    "    data = json.loads(file.read())\n",
    "    x=[]\n",
    "    y=[]\n",
    "    hello = []\n",
    "    max_length = 0\n",
    "    for dic in data['semantic_part']:\n",
    "        for key, val in dic.items():\n",
    "            x.append(key)\n",
    "            y.append(val)\n",
    "            if max_length < len(key.split()):\n",
    "                max_length = len(key.split())\n",
    "    for dic in data['greeting']:\n",
    "        hello.append(dic)\n",
    "num_classes = len(set(y))"
   ]
  },
  {
   "cell_type": "code",
   "execution_count": 4,
   "metadata": {},
   "outputs": [],
   "source": [
    "from sklearn.model_selection import train_test_split "
   ]
  },
  {
   "cell_type": "code",
   "execution_count": 5,
   "metadata": {},
   "outputs": [],
   "source": [
    "from keras.preprocessing.text import Tokenizer"
   ]
  },
  {
   "cell_type": "code",
   "execution_count": 6,
   "metadata": {},
   "outputs": [],
   "source": [
    "import tensorflow as tf"
   ]
  },
  {
   "cell_type": "code",
   "execution_count": 7,
   "metadata": {},
   "outputs": [],
   "source": [
    "t = Tokenizer(num_words=1000)\n",
    "t.fit_on_texts(x)\n",
    "x = t.texts_to_sequences(x)\n",
    "x =  tf.keras.preprocessing.sequence.pad_sequences(x, maxlen=max_length)\n",
    "y = tf.keras.utils.to_categorical(y, num_classes)"
   ]
  },
  {
   "cell_type": "code",
   "execution_count": 8,
   "metadata": {},
   "outputs": [],
   "source": [
    "total_unique_words = len(t.word_counts)+1"
   ]
  },
  {
   "cell_type": "code",
   "execution_count": 9,
   "metadata": {},
   "outputs": [],
   "source": [
    "import numpy as np"
   ]
  },
  {
   "cell_type": "code",
   "execution_count": 10,
   "metadata": {},
   "outputs": [],
   "source": [
    "X_train, X_test, y_train, y_test = train_test_split(x, y, test_size=0.1)"
   ]
  },
  {
   "cell_type": "code",
   "execution_count": 11,
   "metadata": {},
   "outputs": [],
   "source": [
    "from keras.models import Sequential\n",
    "from keras.layers import Dense, Embedding, LSTM"
   ]
  },
  {
   "cell_type": "code",
   "execution_count": 12,
   "metadata": {},
   "outputs": [
    {
     "name": "stdout",
     "output_type": "stream",
     "text": [
      "Model: \"sequential\"\n",
      "_________________________________________________________________\n",
      "Layer (type)                 Output Shape              Param #   \n",
      "=================================================================\n",
      "embedding (Embedding)        (None, None, 5)           405       \n",
      "_________________________________________________________________\n",
      "lstm (LSTM)                  (None, 32)                4864      \n",
      "_________________________________________________________________\n",
      "dense (Dense)                (None, 9)                 297       \n",
      "=================================================================\n",
      "Total params: 5,566\n",
      "Trainable params: 5,566\n",
      "Non-trainable params: 0\n",
      "_________________________________________________________________\n",
      "None\n"
     ]
    }
   ],
   "source": [
    "model = Sequential()\n",
    "model.add(Embedding(total_unique_words, max_length))\n",
    "model.add(LSTM(32, dropout=0.2, recurrent_dropout=0.2))\n",
    "model.add(Dense(num_classes, activation='relu'))\n",
    "\n",
    "model.compile(loss='binary_crossentropy',\n",
    "              optimizer='adam',\n",
    "              metrics=['accuracy'])\n",
    "\n",
    "print (model.summary())"
   ]
  },
  {
   "cell_type": "code",
   "execution_count": 13,
   "metadata": {
    "tags": []
   },
   "outputs": [
    {
     "name": "stdout",
     "output_type": "stream",
     "text": [
      "Epoch 1/100\n",
      "12/12 [==============================] - 5s 87ms/step - loss: 1.0487 - accuracy: 0.0636 - val_loss: 1.1546 - val_accuracy: 0.1429\n",
      "Epoch 2/100\n",
      "12/12 [==============================] - 0s 15ms/step - loss: 0.8068 - accuracy: 0.1028 - val_loss: 1.1427 - val_accuracy: 0.2857\n",
      "Epoch 3/100\n",
      "12/12 [==============================] - 0s 15ms/step - loss: 0.7301 - accuracy: 0.1726 - val_loss: 1.1382 - val_accuracy: 0.2857\n",
      "Epoch 4/100\n",
      "12/12 [==============================] - 0s 16ms/step - loss: 0.7880 - accuracy: 0.2125 - val_loss: 1.1355 - val_accuracy: 0.2857\n",
      "Epoch 5/100\n",
      "12/12 [==============================] - 0s 16ms/step - loss: 0.7325 - accuracy: 0.1835 - val_loss: 1.1336 - val_accuracy: 0.2857\n",
      "Epoch 6/100\n",
      "12/12 [==============================] - 0s 16ms/step - loss: 0.6454 - accuracy: 0.1799 - val_loss: 1.1320 - val_accuracy: 0.2857\n",
      "Epoch 7/100\n",
      "12/12 [==============================] - 0s 16ms/step - loss: 0.7996 - accuracy: 0.1149 - val_loss: 1.1310 - val_accuracy: 0.2857\n",
      "Epoch 8/100\n",
      "12/12 [==============================] - 0s 17ms/step - loss: 0.6730 - accuracy: 0.1778 - val_loss: 1.1304 - val_accuracy: 0.2857\n",
      "Epoch 9/100\n",
      "12/12 [==============================] - 0s 16ms/step - loss: 0.6350 - accuracy: 0.1546 - val_loss: 1.1304 - val_accuracy: 0.2857\n",
      "Epoch 10/100\n",
      "12/12 [==============================] - 0s 22ms/step - loss: 0.6705 - accuracy: 0.1503 - val_loss: 1.1298 - val_accuracy: 0.2857\n",
      "Epoch 11/100\n",
      "12/12 [==============================] - 0s 15ms/step - loss: 0.6499 - accuracy: 0.1805 - val_loss: 1.1296 - val_accuracy: 0.2857\n",
      "Epoch 12/100\n",
      "12/12 [==============================] - 0s 14ms/step - loss: 0.6631 - accuracy: 0.1481 - val_loss: 1.1290 - val_accuracy: 0.2857\n",
      "Epoch 13/100\n",
      "12/12 [==============================] - 0s 17ms/step - loss: 0.7697 - accuracy: 0.2643 - val_loss: 1.1275 - val_accuracy: 0.2857\n",
      "Epoch 14/100\n",
      "12/12 [==============================] - 0s 16ms/step - loss: 0.7238 - accuracy: 0.2338 - val_loss: 1.1269 - val_accuracy: 0.2857\n",
      "Epoch 15/100\n",
      "12/12 [==============================] - 0s 14ms/step - loss: 0.5933 - accuracy: 0.1696 - val_loss: 1.1264 - val_accuracy: 0.2857\n",
      "Epoch 16/100\n",
      "12/12 [==============================] - 0s 13ms/step - loss: 0.7397 - accuracy: 0.1974 - val_loss: 1.1246 - val_accuracy: 0.2857\n",
      "Epoch 17/100\n",
      "12/12 [==============================] - 0s 13ms/step - loss: 0.7429 - accuracy: 0.2539 - val_loss: 1.1228 - val_accuracy: 0.2857\n",
      "Epoch 18/100\n",
      "12/12 [==============================] - 0s 13ms/step - loss: 0.5773 - accuracy: 0.3105 - val_loss: 1.1212 - val_accuracy: 0.2857\n",
      "Epoch 19/100\n",
      "12/12 [==============================] - 0s 14ms/step - loss: 0.6949 - accuracy: 0.3452 - val_loss: 1.1246 - val_accuracy: 0.2857\n",
      "Epoch 20/100\n",
      "12/12 [==============================] - 0s 13ms/step - loss: 0.6561 - accuracy: 0.3049 - val_loss: 1.1256 - val_accuracy: 0.2857\n",
      "Epoch 21/100\n",
      "12/12 [==============================] - 0s 13ms/step - loss: 0.4410 - accuracy: 0.2832 - val_loss: 1.1259 - val_accuracy: 0.2857\n",
      "Epoch 22/100\n",
      "12/12 [==============================] - 0s 15ms/step - loss: 0.5376 - accuracy: 0.3622 - val_loss: 1.1230 - val_accuracy: 0.2857\n",
      "Epoch 23/100\n",
      "12/12 [==============================] - 0s 16ms/step - loss: 0.5871 - accuracy: 0.2696 - val_loss: 1.1205 - val_accuracy: 0.2857\n",
      "Epoch 24/100\n",
      "12/12 [==============================] - 0s 16ms/step - loss: 0.6730 - accuracy: 0.2807 - val_loss: 1.1182 - val_accuracy: 0.2857\n",
      "Epoch 25/100\n",
      "12/12 [==============================] - 0s 17ms/step - loss: 0.4717 - accuracy: 0.3768 - val_loss: 1.1165 - val_accuracy: 0.2857\n",
      "Epoch 26/100\n",
      "12/12 [==============================] - 0s 18ms/step - loss: 0.5174 - accuracy: 0.4488 - val_loss: 1.1146 - val_accuracy: 0.2857\n",
      "Epoch 27/100\n",
      "12/12 [==============================] - 0s 18ms/step - loss: 0.5855 - accuracy: 0.4601 - val_loss: 1.1116 - val_accuracy: 0.2857\n",
      "Epoch 28/100\n",
      "12/12 [==============================] - 0s 15ms/step - loss: 0.5658 - accuracy: 0.4888 - val_loss: 1.1093 - val_accuracy: 0.2857\n",
      "Epoch 29/100\n",
      "12/12 [==============================] - 0s 15ms/step - loss: 0.5866 - accuracy: 0.4448 - val_loss: 1.1065 - val_accuracy: 0.2857\n",
      "Epoch 30/100\n",
      "12/12 [==============================] - 0s 14ms/step - loss: 0.4880 - accuracy: 0.5108 - val_loss: 1.1049 - val_accuracy: 0.2857\n",
      "Epoch 31/100\n",
      "12/12 [==============================] - 0s 16ms/step - loss: 0.4878 - accuracy: 0.4389 - val_loss: 1.1033 - val_accuracy: 0.2857\n",
      "Epoch 32/100\n",
      "12/12 [==============================] - 0s 16ms/step - loss: 0.5488 - accuracy: 0.5106 - val_loss: 1.1019 - val_accuracy: 0.2857\n",
      "Epoch 33/100\n",
      "12/12 [==============================] - 0s 16ms/step - loss: 0.4398 - accuracy: 0.5260 - val_loss: 1.0993 - val_accuracy: 0.2857\n",
      "Epoch 34/100\n",
      "12/12 [==============================] - 0s 20ms/step - loss: 0.4300 - accuracy: 0.5862 - val_loss: 1.0959 - val_accuracy: 0.2857\n",
      "Epoch 35/100\n",
      "12/12 [==============================] - 0s 17ms/step - loss: 0.5859 - accuracy: 0.6368 - val_loss: 1.0935 - val_accuracy: 0.2857\n",
      "Epoch 36/100\n",
      "12/12 [==============================] - 0s 18ms/step - loss: 0.4790 - accuracy: 0.5389 - val_loss: 1.0911 - val_accuracy: 0.2857\n",
      "Epoch 37/100\n",
      "12/12 [==============================] - 0s 16ms/step - loss: 0.4102 - accuracy: 0.6861 - val_loss: 1.0890 - val_accuracy: 0.2857\n",
      "Epoch 38/100\n",
      "12/12 [==============================] - 0s 14ms/step - loss: 0.4789 - accuracy: 0.6935 - val_loss: 1.0863 - val_accuracy: 0.2857\n",
      "Epoch 39/100\n",
      "12/12 [==============================] - 0s 14ms/step - loss: 0.5170 - accuracy: 0.6419 - val_loss: 1.0842 - val_accuracy: 0.2857\n",
      "Epoch 40/100\n",
      "12/12 [==============================] - 0s 15ms/step - loss: 0.5273 - accuracy: 0.6458 - val_loss: 1.0818 - val_accuracy: 0.2857\n",
      "Epoch 41/100\n",
      "12/12 [==============================] - 0s 17ms/step - loss: 0.4256 - accuracy: 0.7616 - val_loss: 1.0796 - val_accuracy: 0.2857\n",
      "Epoch 42/100\n",
      "12/12 [==============================] - 0s 14ms/step - loss: 0.4613 - accuracy: 0.7367 - val_loss: 1.0756 - val_accuracy: 0.4286\n",
      "Epoch 43/100\n",
      "12/12 [==============================] - 0s 16ms/step - loss: 0.5372 - accuracy: 0.7010 - val_loss: 1.0722 - val_accuracy: 0.4286\n",
      "Epoch 44/100\n",
      "12/12 [==============================] - 0s 16ms/step - loss: 0.5205 - accuracy: 0.6189 - val_loss: 1.0694 - val_accuracy: 0.4286\n",
      "Epoch 45/100\n",
      "12/12 [==============================] - 0s 16ms/step - loss: 0.3335 - accuracy: 0.7664 - val_loss: 1.0671 - val_accuracy: 0.4286\n",
      "Epoch 46/100\n",
      "12/12 [==============================] - 0s 16ms/step - loss: 0.5022 - accuracy: 0.6317 - val_loss: 1.0619 - val_accuracy: 0.4286\n",
      "Epoch 47/100\n",
      "12/12 [==============================] - 0s 16ms/step - loss: 0.3845 - accuracy: 0.7849 - val_loss: 1.0584 - val_accuracy: 0.4286\n",
      "Epoch 48/100\n",
      "12/12 [==============================] - 0s 22ms/step - loss: 0.4479 - accuracy: 0.7534 - val_loss: 1.0535 - val_accuracy: 0.4286\n",
      "Epoch 49/100\n",
      "12/12 [==============================] - 0s 17ms/step - loss: 0.4026 - accuracy: 0.7908 - val_loss: 1.0523 - val_accuracy: 0.4286\n",
      "Epoch 50/100\n",
      "12/12 [==============================] - 0s 18ms/step - loss: 0.3816 - accuracy: 0.7919 - val_loss: 1.0523 - val_accuracy: 0.4286\n",
      "Epoch 51/100\n",
      "12/12 [==============================] - 0s 17ms/step - loss: 0.4055 - accuracy: 0.7310 - val_loss: 1.0545 - val_accuracy: 0.4286\n",
      "Epoch 52/100\n",
      "12/12 [==============================] - 0s 16ms/step - loss: 0.3559 - accuracy: 0.7856 - val_loss: 1.0476 - val_accuracy: 0.4286\n",
      "Epoch 53/100\n",
      "12/12 [==============================] - 0s 16ms/step - loss: 0.4046 - accuracy: 0.7646 - val_loss: 1.0436 - val_accuracy: 0.4286\n",
      "Epoch 54/100\n",
      "12/12 [==============================] - 0s 22ms/step - loss: 0.4157 - accuracy: 0.7386 - val_loss: 1.0401 - val_accuracy: 0.4286\n",
      "Epoch 55/100\n",
      "12/12 [==============================] - 0s 17ms/step - loss: 0.3069 - accuracy: 0.8321 - val_loss: 1.0387 - val_accuracy: 0.4286\n",
      "Epoch 56/100\n",
      "12/12 [==============================] - 0s 15ms/step - loss: 0.3463 - accuracy: 0.7917 - val_loss: 1.0373 - val_accuracy: 0.4286\n",
      "Epoch 57/100\n",
      "12/12 [==============================] - 0s 15ms/step - loss: 0.4817 - accuracy: 0.6811 - val_loss: 1.0356 - val_accuracy: 0.4286\n",
      "Epoch 58/100\n",
      "12/12 [==============================] - 0s 14ms/step - loss: 0.4742 - accuracy: 0.6935 - val_loss: 1.0327 - val_accuracy: 0.4286\n",
      "Epoch 59/100\n",
      "12/12 [==============================] - 0s 15ms/step - loss: 0.4952 - accuracy: 0.7098 - val_loss: 1.0315 - val_accuracy: 0.4286\n",
      "Epoch 60/100\n",
      "12/12 [==============================] - 0s 19ms/step - loss: 0.3991 - accuracy: 0.7004 - val_loss: 1.0258 - val_accuracy: 0.4286\n",
      "Epoch 61/100\n",
      "12/12 [==============================] - 0s 15ms/step - loss: 0.3367 - accuracy: 0.7658 - val_loss: 1.0226 - val_accuracy: 0.4286\n",
      "Epoch 62/100\n",
      "12/12 [==============================] - 0s 15ms/step - loss: 0.4045 - accuracy: 0.7326 - val_loss: 1.0233 - val_accuracy: 0.4286\n",
      "Epoch 63/100\n",
      "12/12 [==============================] - 0s 15ms/step - loss: 0.3953 - accuracy: 0.7812 - val_loss: 1.0229 - val_accuracy: 0.4286\n",
      "Epoch 64/100\n",
      "12/12 [==============================] - 0s 16ms/step - loss: 0.3808 - accuracy: 0.7862 - val_loss: 1.0236 - val_accuracy: 0.4286\n",
      "Epoch 65/100\n",
      "12/12 [==============================] - 0s 16ms/step - loss: 0.2390 - accuracy: 0.7689 - val_loss: 1.0244 - val_accuracy: 0.4286\n",
      "Epoch 66/100\n",
      "12/12 [==============================] - 0s 16ms/step - loss: 0.3317 - accuracy: 0.8301 - val_loss: 1.0205 - val_accuracy: 0.4286\n",
      "Epoch 67/100\n",
      "12/12 [==============================] - 0s 15ms/step - loss: 0.4982 - accuracy: 0.6576 - val_loss: 1.0169 - val_accuracy: 0.4286\n",
      "Epoch 68/100\n",
      "12/12 [==============================] - 0s 16ms/step - loss: 0.4712 - accuracy: 0.7179 - val_loss: 1.0182 - val_accuracy: 0.4286\n",
      "Epoch 69/100\n",
      "12/12 [==============================] - 0s 16ms/step - loss: 0.3736 - accuracy: 0.7460 - val_loss: 1.0160 - val_accuracy: 0.4286\n",
      "Epoch 70/100\n",
      "12/12 [==============================] - 0s 16ms/step - loss: 0.4003 - accuracy: 0.7907 - val_loss: 1.0126 - val_accuracy: 0.4286\n",
      "Epoch 71/100\n",
      "12/12 [==============================] - 0s 15ms/step - loss: 0.4615 - accuracy: 0.6781 - val_loss: 1.0080 - val_accuracy: 0.4286\n",
      "Epoch 72/100\n",
      "12/12 [==============================] - 0s 15ms/step - loss: 0.3764 - accuracy: 0.7108 - val_loss: 1.0049 - val_accuracy: 0.4286\n",
      "Epoch 73/100\n",
      "12/12 [==============================] - 0s 16ms/step - loss: 0.2970 - accuracy: 0.8458 - val_loss: 1.0028 - val_accuracy: 0.4286\n",
      "Epoch 74/100\n",
      "12/12 [==============================] - 0s 17ms/step - loss: 0.2545 - accuracy: 0.8793 - val_loss: 1.0031 - val_accuracy: 0.4286\n",
      "Epoch 75/100\n",
      "12/12 [==============================] - 0s 15ms/step - loss: 0.3484 - accuracy: 0.7774 - val_loss: 1.0020 - val_accuracy: 0.4286\n",
      "Epoch 76/100\n",
      "12/12 [==============================] - 0s 15ms/step - loss: 0.2693 - accuracy: 0.7892 - val_loss: 1.0000 - val_accuracy: 0.4286\n",
      "Epoch 77/100\n",
      "12/12 [==============================] - 0s 15ms/step - loss: 0.3326 - accuracy: 0.8345 - val_loss: 0.9991 - val_accuracy: 0.4286\n",
      "Epoch 78/100\n",
      "12/12 [==============================] - 0s 15ms/step - loss: 0.3103 - accuracy: 0.7987 - val_loss: 0.9991 - val_accuracy: 0.4286\n",
      "Epoch 79/100\n",
      "12/12 [==============================] - 0s 16ms/step - loss: 0.3615 - accuracy: 0.8137 - val_loss: 0.9968 - val_accuracy: 0.4286\n",
      "Epoch 80/100\n",
      "12/12 [==============================] - 0s 17ms/step - loss: 0.3185 - accuracy: 0.8417 - val_loss: 0.9972 - val_accuracy: 0.4286\n",
      "Epoch 81/100\n",
      "12/12 [==============================] - 0s 17ms/step - loss: 0.3388 - accuracy: 0.8111 - val_loss: 0.9987 - val_accuracy: 0.4286\n",
      "Epoch 82/100\n",
      "12/12 [==============================] - 0s 19ms/step - loss: 0.2922 - accuracy: 0.8489 - val_loss: 0.9986 - val_accuracy: 0.4286\n",
      "Epoch 83/100\n",
      "12/12 [==============================] - 0s 19ms/step - loss: 0.4031 - accuracy: 0.7816 - val_loss: 1.0021 - val_accuracy: 0.4286\n",
      "Epoch 84/100\n",
      "12/12 [==============================] - 0s 17ms/step - loss: 0.3179 - accuracy: 0.8252 - val_loss: 1.0012 - val_accuracy: 0.4286\n",
      "Epoch 85/100\n",
      "12/12 [==============================] - 0s 15ms/step - loss: 0.3347 - accuracy: 0.8199 - val_loss: 0.9969 - val_accuracy: 0.4286\n",
      "Epoch 86/100\n",
      "12/12 [==============================] - 0s 20ms/step - loss: 0.3626 - accuracy: 0.7992 - val_loss: 0.9908 - val_accuracy: 0.4286\n",
      "Epoch 87/100\n",
      "12/12 [==============================] - 0s 15ms/step - loss: 0.3932 - accuracy: 0.7643 - val_loss: 0.9945 - val_accuracy: 0.4286\n",
      "Epoch 88/100\n",
      "12/12 [==============================] - 0s 15ms/step - loss: 0.3484 - accuracy: 0.8179 - val_loss: 0.9955 - val_accuracy: 0.4286\n",
      "Epoch 89/100\n",
      "12/12 [==============================] - 0s 14ms/step - loss: 0.3132 - accuracy: 0.8318 - val_loss: 0.9933 - val_accuracy: 0.4286\n",
      "Epoch 90/100\n",
      "12/12 [==============================] - 0s 14ms/step - loss: 0.3054 - accuracy: 0.7956 - val_loss: 0.9904 - val_accuracy: 0.4286\n",
      "Epoch 91/100\n",
      "12/12 [==============================] - 0s 15ms/step - loss: 0.3580 - accuracy: 0.8021 - val_loss: 0.9890 - val_accuracy: 0.4286\n",
      "Epoch 92/100\n",
      "12/12 [==============================] - 0s 15ms/step - loss: 0.2977 - accuracy: 0.8512 - val_loss: 0.9875 - val_accuracy: 0.4286\n",
      "Epoch 93/100\n",
      "12/12 [==============================] - 0s 16ms/step - loss: 0.3222 - accuracy: 0.8257 - val_loss: 0.9870 - val_accuracy: 0.4286\n",
      "Epoch 94/100\n",
      "12/12 [==============================] - 0s 16ms/step - loss: 0.3266 - accuracy: 0.8114 - val_loss: 0.9904 - val_accuracy: 0.4286\n",
      "Epoch 95/100\n",
      "12/12 [==============================] - 0s 18ms/step - loss: 0.3320 - accuracy: 0.8056 - val_loss: 0.9903 - val_accuracy: 0.4286\n",
      "Epoch 96/100\n",
      "12/12 [==============================] - 0s 17ms/step - loss: 0.3861 - accuracy: 0.7853 - val_loss: 0.9896 - val_accuracy: 0.4286\n",
      "Epoch 97/100\n",
      "12/12 [==============================] - 0s 16ms/step - loss: 0.3355 - accuracy: 0.8099 - val_loss: 0.9879 - val_accuracy: 0.4286\n",
      "Epoch 98/100\n",
      "12/12 [==============================] - 0s 15ms/step - loss: 0.3856 - accuracy: 0.7860 - val_loss: 0.9868 - val_accuracy: 0.4286\n",
      "Epoch 99/100\n",
      "12/12 [==============================] - 0s 15ms/step - loss: 0.3019 - accuracy: 0.8374 - val_loss: 0.9886 - val_accuracy: 0.4286\n",
      "Epoch 100/100\n",
      "12/12 [==============================] - 0s 15ms/step - loss: 0.3117 - accuracy: 0.8252 - val_loss: 0.9902 - val_accuracy: 0.4286\n"
     ]
    }
   ],
   "source": [
    "batch_size = 5\n",
    "epochs = 100\n",
    "history = model.fit(X_train, y_train,\n",
    "          batch_size=batch_size,\n",
    "          epochs=epochs,\n",
    "          validation_data=(X_test, y_test))"
   ]
  },
  {
   "cell_type": "code",
   "execution_count": 14,
   "metadata": {},
   "outputs": [
    {
     "name": "stdout",
     "output_type": "stream",
     "text": [
      "2/2 [==============================] - 0s 5ms/step - loss: 0.9902 - accuracy: 0.4286\n",
      "\n",
      "Оценка теста: 0.9902424216270447\n",
      "Оценка точности модели: 0.4285714328289032\n"
     ]
    }
   ],
   "source": [
    "score = model.evaluate(X_test, y_test,\n",
    "                       batch_size=batch_size, verbose=1)\n",
    "print()\n",
    "print(u'Оценка теста: {}'.format(score[0]))\n",
    "print(u'Оценка точности модели: {}'.format(score[1]))\n"
   ]
  },
  {
   "cell_type": "code",
   "execution_count": 18,
   "metadata": {},
   "outputs": [
    {
     "data": {
      "text/plain": [
       "array([0., 0., 0., 0., 0., 1., 0., 0., 0.], dtype=float32)"
      ]
     },
     "execution_count": 18,
     "metadata": {},
     "output_type": "execute_result"
    }
   ],
   "source": [
    "y_test[0]"
   ]
  },
  {
   "cell_type": "code",
   "execution_count": null,
   "metadata": {},
   "outputs": [],
   "source": []
  }
 ],
 "metadata": {
  "kernelspec": {
   "display_name": "Python 3",
   "language": "python",
   "name": "python3"
  },
  "language_info": {
   "codemirror_mode": {
    "name": "ipython",
    "version": 3
   },
   "file_extension": ".py",
   "mimetype": "text/x-python",
   "name": "python",
   "nbconvert_exporter": "python",
   "pygments_lexer": "ipython3",
   "version": "3.6.9"
  }
 },
 "nbformat": 4,
 "nbformat_minor": 2
}
