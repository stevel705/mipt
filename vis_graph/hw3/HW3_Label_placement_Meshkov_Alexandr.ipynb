{
 "cells": [
  {
   "cell_type": "markdown",
   "metadata": {},
   "source": [
    "Meshkov Alexandr"
   ]
  },
  {
   "cell_type": "code",
   "execution_count": 1,
   "metadata": {},
   "outputs": [
    {
     "name": "stdout",
     "output_type": "stream",
     "text": [
      "--2021-04-24 21:53:47--  https://www.dropbox.com/s/j4r325mgj23lenj/test.csv?dl=0\n",
      "Resolving www.dropbox.com (www.dropbox.com)... 162.125.70.18, 2620:100:6028:18::a27d:4712\n",
      "Connecting to www.dropbox.com (www.dropbox.com)|162.125.70.18|:443... connected.\n",
      "HTTP request sent, awaiting response... 301 Moved Permanently\n",
      "Location: /s/raw/j4r325mgj23lenj/test.csv [following]\n",
      "--2021-04-24 21:53:48--  https://www.dropbox.com/s/raw/j4r325mgj23lenj/test.csv\n",
      "Reusing existing connection to www.dropbox.com:443.\n",
      "HTTP request sent, awaiting response... 302 Found\n",
      "Location: https://uceb0cec2395776f88d60852ea8c.dl.dropboxusercontent.com/cd/0/inline/BNOIHJYzA6_oCFWBiUYh0aLKVKUrSud-d2ZzHSXpEKXcXHojYl8w4iFUGPKZcIKZQE5bmxWBc9WbsjjzsJIIH25lNV4rufDCcR4lZ8aBEV3PV4p3GSmlMgoWC0ksg8aOoMsiaP5dDvGZSNt1ZQrR5mnw/file# [following]\n",
      "--2021-04-24 21:53:48--  https://uceb0cec2395776f88d60852ea8c.dl.dropboxusercontent.com/cd/0/inline/BNOIHJYzA6_oCFWBiUYh0aLKVKUrSud-d2ZzHSXpEKXcXHojYl8w4iFUGPKZcIKZQE5bmxWBc9WbsjjzsJIIH25lNV4rufDCcR4lZ8aBEV3PV4p3GSmlMgoWC0ksg8aOoMsiaP5dDvGZSNt1ZQrR5mnw/file\n",
      "Resolving uceb0cec2395776f88d60852ea8c.dl.dropboxusercontent.com (uceb0cec2395776f88d60852ea8c.dl.dropboxusercontent.com)... 162.125.70.15, 2620:100:6028:15::a27d:470f\n",
      "Connecting to uceb0cec2395776f88d60852ea8c.dl.dropboxusercontent.com (uceb0cec2395776f88d60852ea8c.dl.dropboxusercontent.com)|162.125.70.15|:443... connected.\n",
      "HTTP request sent, awaiting response... 200 OK\n",
      "Length: 141 [text/plain]\n",
      "Saving to: ‘data.csv’\n",
      "\n",
      "data.csv            100%[===================>]     141  --.-KB/s    in 0s      \n",
      "\n",
      "2021-04-24 21:53:49 (8,51 MB/s) - ‘data.csv’ saved [141/141]\n",
      "\n"
     ]
    }
   ],
   "source": [
    "import networkx as nx\n",
    "import warnings\n",
    "warnings.filterwarnings(\"ignore\")\n",
    "!wget -O data.csv https://www.dropbox.com/s/j4r325mgj23lenj/test.csv?dl=0 \n",
    "test_file = \"data.csv\""
   ]
  },
  {
   "cell_type": "code",
   "execution_count": 41,
   "metadata": {},
   "outputs": [
    {
     "name": "stdout",
     "output_type": "stream",
     "text": [
      "[Box(pos=(20, 20), size=(10, 10), offsets=[(0, 0), (10, 0), (0, 10), (10, 10)]), Box(pos=(20, 25), size=(10, 10), offsets=[(0, 0), (10, 0), (0, 10), (10, 10)]), Box(pos=(25, 20), size=(10, 10), offsets=[(0, 0), (10, 0), (0, 10), (10, 10)]), Box(pos=(25, 25), size=(10, 10), offsets=[(0, 0), (10, 0), (0, 10), (10, 10)])]\n"
     ]
    }
   ],
   "source": [
    "\n",
    "raw_data = '''\n",
    "20,20\t10,10\t0,0 10,0 0,10 10,10\n",
    "20,25\t10,10\t0,0 10,0 0,10 10,10\n",
    "25,20\t10,10\t0,0 10,0 0,10 10,10\n",
    "25,25\t10,10\t0,0 10,0 0,10 10,10\n",
    "'''\n",
    "\n",
    "\n",
    "class Pos:\n",
    "    def __init__(self, *arr):\n",
    "        assert len(arr) == 2\n",
    "        self.xy = arr\n",
    "    \n",
    "    def __add__(self, that):\n",
    "        return [a + b for a, b in zip(self.xy, that.xy)]\n",
    "    \n",
    "    def __sub__(self, that):\n",
    "        return [a - b for a, b in zip(self.xy, that.xy)]\n",
    "    \n",
    "    def __neg__(self):\n",
    "        return [-a for a in self.xy]\n",
    "    \n",
    "    def __str__(self):\n",
    "        return str(self.xy)\n",
    "    \n",
    "    def __repr__(self):\n",
    "        return str(self)\n",
    "    \n",
    "    def parse(s):\n",
    "        arr = [int(a) for a in s.split(',')]\n",
    "        return Pos(*arr)\n",
    "\n",
    "\n",
    "class Box:\n",
    "    def __init__(self, line):\n",
    "        arr = line.split('\\t')\n",
    "        self.pos = Pos.parse(arr[0])\n",
    "        self.size = Pos.parse(arr[1])\n",
    "        self.offsets = [Pos.parse(pos) for pos in arr[2].split(' ')]\n",
    "        assert len(self.offsets) > 0\n",
    "    \n",
    "    def __str__(self):\n",
    "        return 'Box(pos={}, size={}, offsets={})'.format(self.pos, self.size, self.offsets)\n",
    "    \n",
    "    def __repr__(self):\n",
    "        return str(self)\n",
    "\n",
    "\n",
    "boxes = [Box(line) for line in raw_data.strip().split('\\n')]\n",
    "print(boxes)\n"
   ]
  },
  {
   "cell_type": "code",
   "execution_count": 21,
   "metadata": {},
   "outputs": [
    {
     "data": {
      "text/plain": [
       "(0, 10)"
      ]
     },
     "execution_count": 21,
     "metadata": {},
     "output_type": "execute_result"
    }
   ],
   "source": [
    "boxes[0].offsets[2][0]"
   ]
  },
  {
   "cell_type": "code",
   "execution_count": 2,
   "metadata": {},
   "outputs": [],
   "source": [
    "#Парсинг\n",
    "import csv\n",
    "data = []\n",
    "labels_x = []\n",
    "labels_y = []\n",
    "labels_placement_x = []\n",
    "labels_placement_y = []\n",
    "labels_width = []\n",
    "labels_height = []\n",
    "\n",
    "with open(test_file, newline='') as csvfile:\n",
    "    reader = csv.reader(csvfile, delimiter=',')\n",
    "    for row in reader:\n",
    "        for elem in row:\n",
    "            data.append(elem)\n",
    "N = int(data[0])\n",
    "for i in range(1, N + 1):\n",
    "    labels_x.append(int(data[i]))\n",
    "for i in range(N + 1, N*2 + 1):\n",
    "    labels_y.append(int(data[i]))\n",
    "for first, second in zip(range(N*2 + 1, N*3 + 1), range(N*4 + 1, N*5 + 1)):\n",
    "    labels_placement_x.append([int(data[first]), int(data[second])])\n",
    "for first, second in zip(range(N*3 + 1, N*4 + 1), range(N*5 + 1, N*6 + 1)):\n",
    "    labels_placement_y.append([int(data[first]), int(data[second])])\n",
    "for first, second in zip(range(N*6 + 1, N*7 + 1), range(N*7 + 1, N*8 + 1)):\n",
    "    labels_width.append(int(data[first]))\n",
    "    labels_height.append(int(data[second]))"
   ]
  },
  {
   "cell_type": "markdown",
   "metadata": {},
   "source": [
    "Данные принимаются в виде файла .csv, в котором они расположены в следующем порядке:\n",
    "\n",
    "В первой строке число N - количество точек\n",
    "\n",
    "Во второй строке последовательность координат \"x\" каждой точки (разделенные запятой)\n",
    "\n",
    "В третьей строке последовательность координат \"y\" каждой точки (разделенные запятой)\n",
    "\n",
    "В четвертой строке последовательность координат \"x\" левого нижнего угла лэйбла (прямоугольника) в системе отсчета, связанной с точкой для первого варианта расположения лэйбла.(разделенные запятой)\n",
    "\n",
    "В пятой строке последовательность координат \"y\" левого нижнего угла лэйбла (прямоугольника) в системе отсчета, связанной с точкой для первого варианта расположения лэйбла.(разделенные запятой)\n",
    "\n",
    "В шестой строке последовательность координат \"x\" левого нижнего угла лэйбла (прямоугольника) в системе отсчета, связанной с точкой для второго варианта расположения лэйбла.(разделенные запятой)\n",
    "\n",
    "В седьмой строке последовательность координат \"y\" левого нижнего угла лэйбла (прямоугольника) в системе отсчета, связанной с точкой для второго варианта расположения лэйбла.(разделенные запятой)\n",
    "\n",
    "В восьмой строке последовательность значений ширины для каждого лэйбла (разделенные запятой)\n",
    "\n",
    "В девятой строке последовательность значений высоты для каждого лэйбла (разделенные запятой)\n",
    "\n"
   ]
  },
  {
   "cell_type": "code",
   "execution_count": 79,
   "metadata": {},
   "outputs": [],
   "source": [
    "class label_box:\n",
    "    def __init__(self, line):\n",
    "        arr = line.split('\\t')\n",
    "        self.offsets = [Pos.parse(pos) for pos in arr[2].split(' ')]\n",
    "        self.pos = Pos.parse(arr[0])\n",
    "        self.x = self.pos.xy[0] + self.offsets[1].xy[0] # + labels_placement_x\n",
    "        self.y = self.pos.xy[1] + self.offsets[1].xy[1] # + labels_placement_y\n",
    "        self.width = Pos.parse(arr[1]).xy[0]\n",
    "        self.height = Pos.parse(arr[1]).xy[1]\n",
    "        \n",
    "labels_list = [label_box(line) for line in raw_data.strip().split('\\n')]"
   ]
  },
  {
   "cell_type": "code",
   "execution_count": 80,
   "metadata": {},
   "outputs": [],
   "source": [
    "# class label:\n",
    "#     def __init__(self, label_x, label_y, labels_width, labels_height,\n",
    "#                  labels_placement_x, labels_placement_y):\n",
    "#         self.x = label_x + labels_placement_x\n",
    "#         self.y = label_y + labels_placement_y\n",
    "#         self.width = labels_width\n",
    "#         self.height = labels_height\n",
    "# labels_list = []\n",
    "# for i in range(N):\n",
    "#     for var in [0,1]:\n",
    "#         labels_list.append(label(labels_x[i], labels_y[i],labels_width[i],labels_height[i],labels_placement_x[i][var],labels_placement_y[i][var]))"
   ]
  },
  {
   "cell_type": "code",
   "execution_count": 81,
   "metadata": {},
   "outputs": [
    {
     "data": {
      "text/plain": [
       "[<__main__.label_box at 0x7f1967d0eca0>,\n",
       " <__main__.label_box at 0x7f1967d0ebb0>,\n",
       " <__main__.label_box at 0x7f1967cee100>,\n",
       " <__main__.label_box at 0x7f1967cee310>]"
      ]
     },
     "execution_count": 81,
     "metadata": {},
     "output_type": "execute_result"
    }
   ],
   "source": [
    "labels_list"
   ]
  },
  {
   "cell_type": "code",
   "execution_count": 86,
   "metadata": {},
   "outputs": [
    {
     "data": {
      "image/png": "[encoded data removed]",
      "text/plain": [
       "<Figure size 720x720 with 1 Axes>"
      ]
     },
     "metadata": {
      "needs_background": "light"
     },
     "output_type": "display_data"
    }
   ],
   "source": [
    "var = 0\n",
    "import matplotlib.pyplot as plt\n",
    "import matplotlib.patches as patches\n",
    "\n",
    "fig = plt.figure(figsize = (10,10))\n",
    "ax = fig.add_subplot(111, aspect='equal')\n",
    "\n",
    "# plt.xlim(0, 500)\n",
    "# plt.ylim(0, 500)\n",
    "\n",
    "# for i in range(N): \n",
    "#     ax.plot(labels_x[i] , labels_y[i], 'go')\n",
    "#     ax.add_patch(patches.Rectangle((labels_x[i] + labels_placement_x[i][var], \n",
    "#                                     labels_y[i] + labels_placement_y[i][var]),\n",
    "#                                labels_width[i],labels_height[i],fill=False)) \n",
    "for i in range(len(labels_list)): \n",
    "    ax.plot(labels_list[i].x , labels_list[i].y, 'go')\n",
    "    ax.add_patch(patches.Rectangle((labels_list[i].x + labels_list[i].offsets[0].xy[0], \n",
    "                                    labels_list[i].y + labels_list[i].offsets[0].xy[1]),\n",
    "                               labels_list[i].width, labels_list[i].height, fill=False)) "
   ]
  },
  {
   "cell_type": "code",
   "execution_count": 88,
   "metadata": {},
   "outputs": [],
   "source": [
    "import networkx as nx\n",
    "G=nx.DiGraph()\n",
    "\n",
    "def intersect(label1, label2):\n",
    "    if (label1.y + label1.height < label2.y) or (label2.y + label2.height < label1.y) or (label1.x + label1.width < label2.x) or (label2.x + label2.width < label1.x):\n",
    "        return False\n",
    "    return True\n",
    "\n",
    "for i in range(N):\n",
    "    G.add_node(str(i))\n",
    "    G.add_node(\"no\" + str(i))\n",
    "\n",
    "N = len(labels_list)\n",
    "cross = []\n",
    "for i in range(N):\n",
    "    for k in range(N):\n",
    "        if i != k and intersect(labels_list[i], labels_list[k]):\n",
    "            cross.append([i,k])\n",
    "cross_unique = set()\n",
    "\n",
    "for elem in cross:\n",
    "    elem.sort()\n",
    "    elem_frozen = tuple(elem)\n",
    "    if (elem[1] - elem[0] == 1) and  (elem[0] // 2 == elem[1] // 2):\n",
    "        continue\n",
    "    cross_unique.add(elem_frozen)\n",
    "\n",
    "for elem in cross_unique:\n",
    "    node1 = elem[0] // 2\n",
    "    no_node1 = elem[0] % 2\n",
    "    node2 = elem[1] // 2\n",
    "    no_node2 = elem[1] % 2\n",
    "    if no_node1 == 0 and no_node2 == 0:\n",
    "        G.add_edge(str(node1), \"no\" + str(node2))\n",
    "        G.add_edge(str(node2), \"no\" + str(node1))\n",
    "    if no_node1 == 1 and no_node2 == 0:\n",
    "        G.add_edge(\"no\" + str(node1), \"no\" + str(node2))\n",
    "        G.add_edge(str(node2),  str(node1))\n",
    "    if no_node1 == 1 and no_node2 == 1:\n",
    "        G.add_edge(\"no\" + str(node1), str(node2))\n",
    "        G.add_edge(\"no\" + str(node2), str(node1))\n",
    "    if no_node1 == 0 and no_node2 == 1:\n",
    "        G.add_edge(str(node1), str(node2))\n",
    "        G.add_edge(\"no\" + str(node2), \"no\" + str(node1))"
   ]
  },
  {
   "cell_type": "code",
   "execution_count": 89,
   "metadata": {},
   "outputs": [
    {
     "ename": "NetworkXError",
     "evalue": "random_state_index is incorrect",
     "output_type": "error",
     "traceback": [
      "\u001b[0;31m---------------------------------------------------------------------------\u001b[0m",
      "\u001b[0;31mIndexError\u001b[0m                                Traceback (most recent call last)",
      "\u001b[0;32m~/anaconda3/envs/sisr/lib/python3.8/site-packages/networkx/utils/decorators.py\u001b[0m in \u001b[0;36m_random_state\u001b[0;34m(func, *args, **kwargs)\u001b[0m\n\u001b[1;32m    395\u001b[0m         \u001b[0;32mtry\u001b[0m\u001b[0;34m:\u001b[0m\u001b[0;34m\u001b[0m\u001b[0;34m\u001b[0m\u001b[0m\n\u001b[0;32m--> 396\u001b[0;31m             \u001b[0mrandom_state_arg\u001b[0m \u001b[0;34m=\u001b[0m \u001b[0margs\u001b[0m\u001b[0;34m[\u001b[0m\u001b[0mrandom_state_index\u001b[0m\u001b[0;34m]\u001b[0m\u001b[0;34m\u001b[0m\u001b[0;34m\u001b[0m\u001b[0m\n\u001b[0m\u001b[1;32m    397\u001b[0m         \u001b[0;32mexcept\u001b[0m \u001b[0mTypeError\u001b[0m \u001b[0;32mas\u001b[0m \u001b[0me\u001b[0m\u001b[0;34m:\u001b[0m\u001b[0;34m\u001b[0m\u001b[0;34m\u001b[0m\u001b[0m\n",
      "\u001b[0;31mIndexError\u001b[0m: tuple index out of range",
      "\nThe above exception was the direct cause of the following exception:\n",
      "\u001b[0;31mNetworkXError\u001b[0m                             Traceback (most recent call last)",
      "\u001b[0;32m<ipython-input-89-0704149c03dc>\u001b[0m in \u001b[0;36m<module>\u001b[0;34m\u001b[0m\n\u001b[1;32m      3\u001b[0m \u001b[0mplt\u001b[0m\u001b[0;34m.\u001b[0m\u001b[0msubplot\u001b[0m\u001b[0;34m(\u001b[0m\u001b[0;36m121\u001b[0m\u001b[0;34m)\u001b[0m\u001b[0;34m\u001b[0m\u001b[0;34m\u001b[0m\u001b[0m\n\u001b[1;32m      4\u001b[0m \u001b[0mplt\u001b[0m\u001b[0;34m.\u001b[0m\u001b[0mfigure\u001b[0m\u001b[0;34m(\u001b[0m\u001b[0mfigsize\u001b[0m\u001b[0;34m=\u001b[0m\u001b[0;34m(\u001b[0m\u001b[0;36m10\u001b[0m\u001b[0;34m,\u001b[0m \u001b[0;36m10\u001b[0m\u001b[0;34m)\u001b[0m\u001b[0;34m)\u001b[0m\u001b[0;34m\u001b[0m\u001b[0;34m\u001b[0m\u001b[0m\n\u001b[0;32m----> 5\u001b[0;31m \u001b[0mnx\u001b[0m\u001b[0;34m.\u001b[0m\u001b[0mdraw\u001b[0m\u001b[0;34m(\u001b[0m\u001b[0mG\u001b[0m\u001b[0;34m,\u001b[0m \u001b[0mwith_labels\u001b[0m\u001b[0;34m=\u001b[0m\u001b[0;32mTrue\u001b[0m\u001b[0;34m,\u001b[0m \u001b[0mfont_weight\u001b[0m\u001b[0;34m=\u001b[0m\u001b[0;34m'bold'\u001b[0m\u001b[0;34m)\u001b[0m\u001b[0;34m\u001b[0m\u001b[0;34m\u001b[0m\u001b[0m\n\u001b[0m",
      "\u001b[0;32m~/anaconda3/envs/sisr/lib/python3.8/site-packages/networkx/drawing/nx_pylab.py\u001b[0m in \u001b[0;36mdraw\u001b[0;34m(G, pos, ax, **kwds)\u001b[0m\n\u001b[1;32m    121\u001b[0m         \u001b[0mkwds\u001b[0m\u001b[0;34m[\u001b[0m\u001b[0;34m\"with_labels\"\u001b[0m\u001b[0;34m]\u001b[0m \u001b[0;34m=\u001b[0m \u001b[0;34m\"labels\"\u001b[0m \u001b[0;32min\u001b[0m \u001b[0mkwds\u001b[0m\u001b[0;34m\u001b[0m\u001b[0;34m\u001b[0m\u001b[0m\n\u001b[1;32m    122\u001b[0m \u001b[0;34m\u001b[0m\u001b[0m\n\u001b[0;32m--> 123\u001b[0;31m     \u001b[0mdraw_networkx\u001b[0m\u001b[0;34m(\u001b[0m\u001b[0mG\u001b[0m\u001b[0;34m,\u001b[0m \u001b[0mpos\u001b[0m\u001b[0;34m=\u001b[0m\u001b[0mpos\u001b[0m\u001b[0;34m,\u001b[0m \u001b[0max\u001b[0m\u001b[0;34m=\u001b[0m\u001b[0max\u001b[0m\u001b[0;34m,\u001b[0m \u001b[0;34m**\u001b[0m\u001b[0mkwds\u001b[0m\u001b[0;34m)\u001b[0m\u001b[0;34m\u001b[0m\u001b[0;34m\u001b[0m\u001b[0m\n\u001b[0m\u001b[1;32m    124\u001b[0m     \u001b[0max\u001b[0m\u001b[0;34m.\u001b[0m\u001b[0mset_axis_off\u001b[0m\u001b[0;34m(\u001b[0m\u001b[0;34m)\u001b[0m\u001b[0;34m\u001b[0m\u001b[0;34m\u001b[0m\u001b[0m\n\u001b[1;32m    125\u001b[0m     \u001b[0mplt\u001b[0m\u001b[0;34m.\u001b[0m\u001b[0mdraw_if_interactive\u001b[0m\u001b[0;34m(\u001b[0m\u001b[0;34m)\u001b[0m\u001b[0;34m\u001b[0m\u001b[0;34m\u001b[0m\u001b[0m\n",
      "\u001b[0;32m~/anaconda3/envs/sisr/lib/python3.8/site-packages/networkx/drawing/nx_pylab.py\u001b[0m in \u001b[0;36mdraw_networkx\u001b[0;34m(G, pos, arrows, with_labels, **kwds)\u001b[0m\n\u001b[1;32m    331\u001b[0m \u001b[0;34m\u001b[0m\u001b[0m\n\u001b[1;32m    332\u001b[0m     \u001b[0;32mif\u001b[0m \u001b[0mpos\u001b[0m \u001b[0;32mis\u001b[0m \u001b[0;32mNone\u001b[0m\u001b[0;34m:\u001b[0m\u001b[0;34m\u001b[0m\u001b[0;34m\u001b[0m\u001b[0m\n\u001b[0;32m--> 333\u001b[0;31m         \u001b[0mpos\u001b[0m \u001b[0;34m=\u001b[0m \u001b[0mnx\u001b[0m\u001b[0;34m.\u001b[0m\u001b[0mdrawing\u001b[0m\u001b[0;34m.\u001b[0m\u001b[0mspring_layout\u001b[0m\u001b[0;34m(\u001b[0m\u001b[0mG\u001b[0m\u001b[0;34m)\u001b[0m  \u001b[0;31m# default to spring layout\u001b[0m\u001b[0;34m\u001b[0m\u001b[0;34m\u001b[0m\u001b[0m\n\u001b[0m\u001b[1;32m    334\u001b[0m \u001b[0;34m\u001b[0m\u001b[0m\n\u001b[1;32m    335\u001b[0m     \u001b[0mdraw_networkx_nodes\u001b[0m\u001b[0;34m(\u001b[0m\u001b[0mG\u001b[0m\u001b[0;34m,\u001b[0m \u001b[0mpos\u001b[0m\u001b[0;34m,\u001b[0m \u001b[0;34m**\u001b[0m\u001b[0mnode_kwds\u001b[0m\u001b[0;34m)\u001b[0m\u001b[0;34m\u001b[0m\u001b[0;34m\u001b[0m\u001b[0m\n",
      "\u001b[0;32m~/anaconda3/envs/sisr/lib/python3.8/site-packages/decorator.py\u001b[0m in \u001b[0;36mfun\u001b[0;34m(*args, **kw)\u001b[0m\n\u001b[1;32m    212\u001b[0m     \u001b[0;32melse\u001b[0m\u001b[0;34m:\u001b[0m\u001b[0;34m\u001b[0m\u001b[0;34m\u001b[0m\u001b[0m\n\u001b[1;32m    213\u001b[0m         \u001b[0;32mdef\u001b[0m \u001b[0mfun\u001b[0m\u001b[0;34m(\u001b[0m\u001b[0;34m*\u001b[0m\u001b[0margs\u001b[0m\u001b[0;34m,\u001b[0m \u001b[0;34m**\u001b[0m\u001b[0mkw\u001b[0m\u001b[0;34m)\u001b[0m\u001b[0;34m:\u001b[0m\u001b[0;34m\u001b[0m\u001b[0;34m\u001b[0m\u001b[0m\n\u001b[0;32m--> 214\u001b[0;31m             \u001b[0;32mreturn\u001b[0m \u001b[0mcaller\u001b[0m\u001b[0;34m(\u001b[0m\u001b[0mfunc\u001b[0m\u001b[0;34m,\u001b[0m \u001b[0;34m*\u001b[0m\u001b[0;34m(\u001b[0m\u001b[0mextras\u001b[0m \u001b[0;34m+\u001b[0m \u001b[0margs\u001b[0m\u001b[0;34m)\u001b[0m\u001b[0;34m,\u001b[0m \u001b[0;34m**\u001b[0m\u001b[0mkw\u001b[0m\u001b[0;34m)\u001b[0m\u001b[0;34m\u001b[0m\u001b[0;34m\u001b[0m\u001b[0m\n\u001b[0m\u001b[1;32m    215\u001b[0m     \u001b[0mfun\u001b[0m\u001b[0;34m.\u001b[0m\u001b[0m__name__\u001b[0m \u001b[0;34m=\u001b[0m \u001b[0mfunc\u001b[0m\u001b[0;34m.\u001b[0m\u001b[0m__name__\u001b[0m\u001b[0;34m\u001b[0m\u001b[0;34m\u001b[0m\u001b[0m\n\u001b[1;32m    216\u001b[0m     \u001b[0mfun\u001b[0m\u001b[0;34m.\u001b[0m\u001b[0m__signature__\u001b[0m \u001b[0;34m=\u001b[0m \u001b[0minspect\u001b[0m\u001b[0;34m.\u001b[0m\u001b[0msignature\u001b[0m\u001b[0;34m(\u001b[0m\u001b[0mfunc\u001b[0m\u001b[0;34m)\u001b[0m\u001b[0;34m\u001b[0m\u001b[0;34m\u001b[0m\u001b[0m\n",
      "\u001b[0;32m~/anaconda3/envs/sisr/lib/python3.8/site-packages/networkx/utils/decorators.py\u001b[0m in \u001b[0;36m_random_state\u001b[0;34m(func, *args, **kwargs)\u001b[0m\n\u001b[1;32m    398\u001b[0m             \u001b[0;32mraise\u001b[0m \u001b[0mnx\u001b[0m\u001b[0;34m.\u001b[0m\u001b[0mNetworkXError\u001b[0m\u001b[0;34m(\u001b[0m\u001b[0;34m\"random_state_index must be an integer\"\u001b[0m\u001b[0;34m)\u001b[0m \u001b[0;32mfrom\u001b[0m \u001b[0me\u001b[0m\u001b[0;34m\u001b[0m\u001b[0;34m\u001b[0m\u001b[0m\n\u001b[1;32m    399\u001b[0m         \u001b[0;32mexcept\u001b[0m \u001b[0mIndexError\u001b[0m \u001b[0;32mas\u001b[0m \u001b[0me\u001b[0m\u001b[0;34m:\u001b[0m\u001b[0;34m\u001b[0m\u001b[0;34m\u001b[0m\u001b[0m\n\u001b[0;32m--> 400\u001b[0;31m             \u001b[0;32mraise\u001b[0m \u001b[0mnx\u001b[0m\u001b[0;34m.\u001b[0m\u001b[0mNetworkXError\u001b[0m\u001b[0;34m(\u001b[0m\u001b[0;34m\"random_state_index is incorrect\"\u001b[0m\u001b[0;34m)\u001b[0m \u001b[0;32mfrom\u001b[0m \u001b[0me\u001b[0m\u001b[0;34m\u001b[0m\u001b[0;34m\u001b[0m\u001b[0m\n\u001b[0m\u001b[1;32m    401\u001b[0m \u001b[0;34m\u001b[0m\u001b[0m\n\u001b[1;32m    402\u001b[0m         \u001b[0;31m# Create a numpy.random.RandomState instance\u001b[0m\u001b[0;34m\u001b[0m\u001b[0;34m\u001b[0m\u001b[0;34m\u001b[0m\u001b[0m\n",
      "\u001b[0;31mNetworkXError\u001b[0m: random_state_index is incorrect"
     ]
    },
    {
     "data": {
      "image/png": "[encoded data removed]",
      "text/plain": [
       "<Figure size 432x288 with 1 Axes>"
      ]
     },
     "metadata": {
      "needs_background": "light"
     },
     "output_type": "display_data"
    },
    {
     "data": {
      "image/png": "[encoded data removed]",
      "text/plain": [
       "<Figure size 720x720 with 1 Axes>"
      ]
     },
     "metadata": {},
     "output_type": "display_data"
    }
   ],
   "source": [
    "import matplotlib.pyplot as plt\n",
    "\n",
    "plt.subplot(121)\n",
    "plt.figure(figsize=(10, 10))\n",
    "nx.draw(G, with_labels=True, font_weight='bold')"
   ]
  },
  {
   "cell_type": "code",
   "execution_count": 8,
   "metadata": {},
   "outputs": [],
   "source": [
    "comp = {}\n",
    "counter = 0\n",
    "node_var = {}\n",
    "solution_exists = True\n",
    "for s in nx.strongly_connected_components(G):\n",
    "    for node in s:\n",
    "        comp[node] = counter\n",
    "    counter += 1\n",
    "for i in range(N):\n",
    "    if comp[str(i)] == comp[\"no\" + str(i)]:\n",
    "        print(\"no solution\")\n",
    "        solution_exists = False\n",
    "for i in range(N):\n",
    "    if comp[str(i)] > comp[\"no\" + str(i)]:\n",
    "        node_var[i] = 1\n",
    "    else:\n",
    "        node_var[i] = 0"
   ]
  },
  {
   "cell_type": "code",
   "execution_count": 9,
   "metadata": {},
   "outputs": [
    {
     "data": {
      "image/png": "[encoded data removed]",
      "text/plain": [
       "<Figure size 720x720 with 1 Axes>"
      ]
     },
     "metadata": {
      "needs_background": "light"
     },
     "output_type": "display_data"
    }
   ],
   "source": [
    "import matplotlib.pyplot as plt\n",
    "import matplotlib.patches as patches\n",
    "\n",
    "if solution_exists:\n",
    "  fig = plt.figure(figsize = (10,10))\n",
    "  ax = fig.add_subplot(111, aspect='equal')\n",
    "\n",
    "  plt.xlim(0, 500)\n",
    "  plt.ylim(0, 500)\n",
    "\n",
    "  for i in range(N): \n",
    "      ax.plot(labels_x[i] , labels_y[i], 'go')\n",
    "      ax.add_patch(patches.Rectangle((labels_x[i] + labels_placement_x[i][node_var[i]], \n",
    "                                     labels_y[i] + labels_placement_y[i][node_var[i]]),\n",
    "                                 labels_width[i],labels_height[i],fill=False))\n",
    "else: print(\"no solution!\") "
   ]
  },
  {
   "cell_type": "code",
   "execution_count": null,
   "metadata": {},
   "outputs": [],
   "source": []
  }
 ],
 "metadata": {
  "kernelspec": {
   "display_name": "Python (myenv)",
   "language": "python",
   "name": "myenv"
  },
  "language_info": {
   "codemirror_mode": {
    "name": "ipython",
    "version": 3
   },
   "file_extension": ".py",
   "mimetype": "text/x-python",
   "name": "python",
   "nbconvert_exporter": "python",
   "pygments_lexer": "ipython3",
   "version": "3.8.10"
  }
 },
 "nbformat": 4,
 "nbformat_minor": 2
}
