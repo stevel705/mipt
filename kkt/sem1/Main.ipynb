{
 "cells": [
  {
   "cell_type": "markdown",
   "metadata": {},
   "source": [
    "## Постановка задачи\n"
   ]
  },
  {
   "cell_type": "markdown",
   "metadata": {},
   "source": [
    "Дано $M N$-мерных  векторов.\n",
    "\n",
    "$c_i, 0{\\leq}i{\\leq}M$ - цена векторов \n",
    "\n",
    "Найти такое подмножество линейно независимых векторов ${u\\in M}$, что $P(u)=1$ и чтобы их суммарная стоимость была минимальной\n",
    "$F(u) = {\\sum_{a\\in u}{c_i}} {\\rightarrow } min $\n",
    "\n",
    "$P = \\begin{cases} 1, & \\mbox{если } i\\mbox{ лин. независим.} \\\\ 0, & \\mbox{если } i\\mbox{ лин. зависим} \\end{cases}$\n",
    "\n"
   ]
  },
  {
   "cell_type": "markdown",
   "metadata": {},
   "source": [
    "## Алгоритм"
   ]
  },
  {
   "cell_type": "markdown",
   "metadata": {},
   "source": [
    "Для решения этой задачи воспользуемся жадным алгоритмом. \n",
    "Для начала мы отсортируем наши вектора в порядке возрастания весов. \n",
    "$$\n",
    "M - упорядочно: c(M_1){\\leq}c(M_2){\\leq}...{\\leq}c(M_m)\n",
    "$$\n",
    "\n",
    "Выполняем m раз.\n",
    "1. Берем вектор с минимальным весом.\n",
    "2. Проверяем на лин. зависимость \n",
    "    1. Если система лин. независима, то сохраняем в нашей системе.\n",
    "    2. Если система лин. зависима, то отбрасываем данный вектор и идем дальше\n"
   ]
  },
  {
   "cell_type": "markdown",
   "metadata": {},
   "source": [
    "## Оценка трудоёмкости"
   ]
  },
  {
   "cell_type": "markdown",
   "metadata": {},
   "source": [
    "$O(m log m)$ - Время работы сортировки\n",
    "\n",
    "$O(m)$ - сам алгоритм \n",
    "\n",
    "$O(m*n)$ - проверка на лин. зависимость \n",
    "\n",
    "Общая трудоёмкость - $O(m^2logn * n)$"
   ]
  },
  {
   "cell_type": "code",
   "execution_count": null,
   "metadata": {},
   "outputs": [],
   "source": []
  },
  {
   "cell_type": "code",
   "execution_count": 3,
   "metadata": {},
   "outputs": [
    {
     "name": "stdout",
     "output_type": "stream",
     "text": [
      "5 3\n",
      "1 0 0 \n",
      "0 1 0\n",
      "0 0 1\n",
      "0 0 2\n",
      "0 0 3\n",
      "10\n",
      "20\n",
      "30\n",
      "10\n",
      "10\n",
      "40\n",
      "1\n",
      "2\n",
      "4\n"
     ]
    }
   ],
   "source": [
    "# Задача\n",
    "# https://acm.timus.ru/problem.aspx?space=1&num=1041\n",
    "# Алгоритм Грама-Шмидта\n",
    "# https://ru.wikipedia.org/wiki/%D0%9F%D1%80%D0%BE%D1%86%D0%B5%D1%81%D1%81_%D0%93%D1%80%D0%B0%D0%BC%D0%B0_%E2%80%95_%D0%A8%D0%BC%D0%B8%D0%B4%D1%82%D0%B0\n",
    "\n",
    "# INPUT \n",
    "# 5 3\n",
    "# 1 0 0\n",
    "# 0 1 0\n",
    "# 0 0 1\n",
    "# 0 0 2\n",
    "# 0 0 3\n",
    "# 10\n",
    "# 20\n",
    "# 30\n",
    "# 10\n",
    "# 10\n",
    "\n",
    "# OUTPUT \n",
    "# 40\n",
    "# 1\n",
    "# 2\n",
    "# 4\n",
    "\n",
    "# Скалярное умножение векторов\n",
    "def dot(v1, v2):\n",
    "    return sum(x * y for x, y in zip(v1, v2))\n",
    "\n",
    "# Получение  \n",
    "def gs_cofficient(v1, v2):\n",
    "    if dot(v1, v1) == 0.0:\n",
    "        return dot(v2, v1) / 0.00001\n",
    "    else:\n",
    "        return dot(v2, v1) / dot(v1, v1)\n",
    "\n",
    "# Умножение вектора v1 на оператор проекции \n",
    "def multiply(cofficient, v):\n",
    "    return map((lambda x : x * cofficient), v)\n",
    "\n",
    "# Оператор проекции вектора a на вектор b \n",
    "def proj(v1, v2):\n",
    "    return multiply(gs_cofficient(v1, v2) , v1)\n",
    "\n",
    "# Алгоритм Процесс Грама ― Шмидта\n",
    "def gs(X):\n",
    "    Y = []\n",
    "    for i in range(len(X)):\n",
    "        temp_vec = X[i]\n",
    "        for inY in Y :\n",
    "            proj_vec = proj(inY, X[i])\n",
    "            temp_vec = list(map(lambda x, y : x - y, temp_vec, proj_vec))\n",
    "        Y.append(temp_vec)\n",
    "    return Y\n",
    "\n",
    "# Проверка на лин. зависимость\n",
    "def check_linearly_dependent(liv, vec2):\n",
    "    # Добавляем новый вектор в список\n",
    "    liv.append(vec2)\n",
    "    # Получение ортогональных векторов\n",
    "    gs_mat = gs(liv)\n",
    "    # Если последний добавленный вектор нулевой, то вектора лин. зависимы \n",
    "    if all(v == 0 for v in gs_mat[-1]):\n",
    "        return True\n",
    "    return False\n",
    "\n",
    "# Считать M, N, вектора и цены\n",
    "m, n = map(int, (input().split()))\n",
    "vectors = [ list(map(int, (input().split()))) for _ in range(m) ]\n",
    "prices = [ int(input()) for _ in range(m) ]\n",
    "\n",
    "# ZIP векторов, стоимости и индексов векторов\n",
    "zipped = zip(vectors, prices, range(1, len(vectors) + 1))\n",
    "\n",
    "# Сортируем по весам в порядке возрастания\n",
    "sort_zip = sorted(zipped, key=lambda x: x[1])\n",
    "\n",
    "# Берем самый первый дешевый вектор, его вес и индекс\n",
    "liv = [sort_zip[0][0]]\n",
    "total_price = sort_zip[0][1]\n",
    "indexes = [sort_zip[0][2]]\n",
    "\n",
    "# проходим по всем отсортированным векторам\n",
    "for i in range(1, len(sort_zip)):\n",
    "    # Проверяем на лин. зависимость\n",
    "    ch = check_linearly_dependent(liv, sort_zip[i][0])\n",
    "    # Если лин. зависим, то удаляем из списка\n",
    "    if ch:\n",
    "        del liv[-1]\n",
    "    # Иначе прибавляем в общую цену и записываем индекс вектора\n",
    "    else:\n",
    "        total_price += sort_zip[i][1]\n",
    "        indexes.append(sort_zip[i][2])\n",
    "    # Если количество векторов равно N, то прекращаем обход \n",
    "    if len(liv) == n:\n",
    "        break\n",
    "\n",
    "# Если количество равно N, то вывести мин. стоимость и отсортированные индексы векторов        \n",
    "if len(liv) == n:\n",
    "    print(total_price)\n",
    "    print(\"\\n\".join(list(map(str, sorted(indexes)))))\n",
    "# Иначе выводим 0\n",
    "else:\n",
    "    print(0)"
   ]
  },
  {
   "cell_type": "code",
   "execution_count": null,
   "metadata": {},
   "outputs": [],
   "source": []
  }
 ],
 "metadata": {
  "kernelspec": {
   "display_name": "Python 3",
   "language": "python",
   "name": "python3"
  },
  "language_info": {
   "codemirror_mode": {
    "name": "ipython",
    "version": 3
   },
   "file_extension": ".py",
   "mimetype": "text/x-python",
   "name": "python",
   "nbconvert_exporter": "python",
   "pygments_lexer": "ipython3",
   "version": "3.8.5"
  }
 },
 "nbformat": 4,
 "nbformat_minor": 4
}
