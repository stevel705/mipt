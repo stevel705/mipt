{
 "cells": [
  {
   "cell_type": "markdown",
   "metadata": {},
   "source": [
    "## Постановка задачи\n"
   ]
  },
  {
   "cell_type": "markdown",
   "metadata": {},
   "source": [
    "Дано $M N$-мерных  векторов.\n",
    "\n",
    "$c_i, 0{\\leq}i{\\leq}M$ - цена векторов \n",
    "\n",
    "Найти такое подмножество линейно независимых векторов ${u\\in M}$, что $P(u)=1$ и чтобы их суммарная стоимость была минимальной\n",
    "$F(u) = {\\sum_{a\\in u}{c_i}} {\\rightarrow } min $\n",
    "\n",
    "$P = \\begin{cases} 1, & \\mbox{если } i\\mbox{ лин. независим.} \\\\ 0, & \\mbox{если } i\\mbox{ лин. зависим} \\end{cases}$\n",
    "\n"
   ]
  },
  {
   "cell_type": "markdown",
   "metadata": {},
   "source": [
    "## Алгоритм"
   ]
  },
  {
   "cell_type": "markdown",
   "metadata": {},
   "source": [
    "Для решения этой задачи воспользуемся жадным алгоритмом. \n",
    "Для начала мы отсортируем наши вектора в порядке возрастания весов. \n",
    "$$\n",
    "M - упорядочно: c(M_1){\\leq}c(M_2){\\leq}...{\\leq}c(M_m)\n",
    "$$\n",
    "\n",
    "Выполняем m раз.\n",
    "1. Берем вектор с минимальным весом.\n",
    "2. Проверяем на лин. зависимость \n",
    "    1. Если система лин. независима, то сохраняем в нашей системе.\n",
    "    2. Если система лин. зависима, то отбрасываем данный вектор и идем дальше\n"
   ]
  },
  {
   "cell_type": "markdown",
   "metadata": {},
   "source": [
    "## Оценка трудоёмкости"
   ]
  },
  {
   "cell_type": "markdown",
   "metadata": {},
   "source": [
    "$O(m log m)$ - Время работы сортировки\n",
    "\n",
    "$O(m)$ - сам алгоритм \n",
    "\n",
    "$O(m*n)$ - проверка на лин. зависимость \n",
    "\n",
    "Общая трудоёмкость - $O(m^2logn * n)$"
   ]
  },
  {
   "cell_type": "code",
   "execution_count": null,
   "metadata": {},
   "outputs": [],
   "source": []
  },
  {
   "cell_type": "code",
   "execution_count": null,
   "metadata": {},
   "outputs": [],
   "source": []
  },
  {
   "cell_type": "markdown",
   "metadata": {},
   "source": [
    "### Постановка задачи"
   ]
  },
  {
   "cell_type": "markdown",
   "metadata": {},
   "source": [
    "Дан граф с $N$ ($1 ≤ N ≤ 500$) вершинами и $M$ ребрами. У каждого ребра есть два веса $w_1$, $w_2$ (время затрачиваемое на проезд дороги и максимальный вес, который разрешен на дороге). Нужно найти максимум функции $f(S) = min_{E\\in S}(w_2(E))$, где максимум берется по всем путям в графе, которые соединяют нулевую вершину и конечную, а $f(S) = min_{E\\in S}(w_2(E))$ - это минимальный вес $w_2$ ребра в пути S, при этом сумма весов $w_1$ ребер в пути не должна превосходить заданного числа, $\\sum_{E \\in S}w_1(E) < 1440$."
   ]
  },
  {
   "cell_type": "markdown",
   "metadata": {},
   "source": [
    "### Алгоритм"
   ]
  },
  {
   "cell_type": "markdown",
   "metadata": {},
   "source": [
    "Метод дихотомии и алгоритм Дейкстры:\n",
    "Максимальное количество чашек делится пополам, составляется матрица смежности взвешенного графа, с учетом только тех дорог, которые допускают провоз такого количества чашек. С помощью алгоритма Дейкстры по этой матрице находится кратчайшее время достижения последней вершины, сравнивается с максимально допустимым (1440), если время превышенно, выбранное количество чашек становится правой границей для нового отрезка, иначе - левой, этот отрезок снова делится пополам, и т.д. пока расстояние между границами больше 1(чашки), в качестве ответа возвращается левая граница."
   ]
  },
  {
   "cell_type": "markdown",
   "metadata": {},
   "source": [
    "### Корректность\n"
   ]
  },
  {
   "cell_type": "markdown",
   "metadata": {},
   "source": [
    "Количество чашек, найденное алгоритмом, является допустимым, так как это число попало в левую границу отрезка, то для него посчитано минимальное время достижения последней вершины графа алгоритмом Дейкстры, и проверенно, что оно не превышает 1440.\n",
    "\n",
    "Количество чашек k, найденное алгоритмом ялвяется максимальным среди допустиымых: положим, это не так. Алгоритм заканчивает работу, когда разница между правой и левой границами <= 1, то есть число (k+1) попало в правую границу, а значит, для него минимальное время достижения последней вершины превысило 1440, значит (k+1) не является допустимым, следовательно, k - максимальное количество чашек."
   ]
  },
  {
   "cell_type": "markdown",
   "metadata": {},
   "source": [
    "### Время работы"
   ]
  },
  {
   "cell_type": "markdown",
   "metadata": {},
   "source": [
    "Время работы алгоритма Дейкстры - $O(N^2+M)$\n",
    "\n",
    "Построение матрицы смежности - $O(N^2)$\n",
    "\n",
    "Эти две операции производятся при каждом делении отрезка пополам, таких делений не больше $log_2(10000000) = $ const\n",
    "\n",
    "Поэтому общее время работы алгоритма $O(N^2+M)$\n"
   ]
  },
  {
   "cell_type": "markdown",
   "metadata": {},
   "source": [
    "### Реализация"
   ]
  },
  {
   "cell_type": "markdown",
   "metadata": {},
   "source": [
    "Этот же алгоритм переписан на С++, так как на Питоне не проходит по времени 21 тест (на С++ прошел все тесты)."
   ]
  },
  {
   "cell_type": "code",
   "execution_count": 5,
   "metadata": {},
   "outputs": [
    {
     "ename": "KeyboardInterrupt",
     "evalue": "Interrupted by user",
     "output_type": "error",
     "traceback": [
      "\u001b[1;31m---------------------------------------------------------------------------\u001b[0m",
      "\u001b[1;31mKeyboardInterrupt\u001b[0m                         Traceback (most recent call last)",
      "\u001b[1;32m<ipython-input-5-e6fa0a935c89>\u001b[0m in \u001b[0;36m<module>\u001b[1;34m\u001b[0m\n\u001b[0;32m     61\u001b[0m \u001b[1;33m\u001b[0m\u001b[0m\n\u001b[0;32m     62\u001b[0m \u001b[1;32mif\u001b[0m \u001b[0m__name__\u001b[0m \u001b[1;33m==\u001b[0m \u001b[1;34m\"__main__\"\u001b[0m\u001b[1;33m:\u001b[0m\u001b[1;33m\u001b[0m\u001b[1;33m\u001b[0m\u001b[0m\n\u001b[1;32m---> 63\u001b[1;33m     \u001b[0mprint\u001b[0m\u001b[1;33m(\u001b[0m\u001b[0mmain\u001b[0m\u001b[1;33m(\u001b[0m\u001b[1;33m)\u001b[0m\u001b[1;33m)\u001b[0m\u001b[1;33m\u001b[0m\u001b[1;33m\u001b[0m\u001b[0m\n\u001b[0m",
      "\u001b[1;32m<ipython-input-5-e6fa0a935c89>\u001b[0m in \u001b[0;36mmain\u001b[1;34m()\u001b[0m\n\u001b[0;32m     27\u001b[0m \u001b[1;32mdef\u001b[0m \u001b[0mmain\u001b[0m\u001b[1;33m(\u001b[0m\u001b[1;33m)\u001b[0m\u001b[1;33m:\u001b[0m\u001b[1;33m\u001b[0m\u001b[1;33m\u001b[0m\u001b[0m\n\u001b[0;32m     28\u001b[0m \u001b[1;33m\u001b[0m\u001b[0m\n\u001b[1;32m---> 29\u001b[1;33m     \u001b[0mN\u001b[0m\u001b[1;33m,\u001b[0m \u001b[0mM\u001b[0m \u001b[1;33m=\u001b[0m \u001b[0minput\u001b[0m\u001b[1;33m(\u001b[0m\u001b[1;33m)\u001b[0m\u001b[1;33m.\u001b[0m\u001b[0msplit\u001b[0m\u001b[1;33m(\u001b[0m\u001b[1;34m\" \"\u001b[0m\u001b[1;33m)\u001b[0m\u001b[1;33m\u001b[0m\u001b[1;33m\u001b[0m\u001b[0m\n\u001b[0m\u001b[0;32m     30\u001b[0m     \u001b[0mN\u001b[0m \u001b[1;33m=\u001b[0m \u001b[0mint\u001b[0m\u001b[1;33m(\u001b[0m\u001b[0mN\u001b[0m\u001b[1;33m)\u001b[0m\u001b[1;33m\u001b[0m\u001b[1;33m\u001b[0m\u001b[0m\n\u001b[0;32m     31\u001b[0m     \u001b[0mM\u001b[0m \u001b[1;33m=\u001b[0m \u001b[0mint\u001b[0m\u001b[1;33m(\u001b[0m\u001b[0mM\u001b[0m\u001b[1;33m)\u001b[0m\u001b[1;33m\u001b[0m\u001b[1;33m\u001b[0m\u001b[0m\n",
      "\u001b[1;32m~\\anaconda3\\lib\\site-packages\\ipykernel\\kernelbase.py\u001b[0m in \u001b[0;36mraw_input\u001b[1;34m(self, prompt)\u001b[0m\n\u001b[0;32m    858\u001b[0m                 \u001b[1;34m\"raw_input was called, but this frontend does not support input requests.\"\u001b[0m\u001b[1;33m\u001b[0m\u001b[1;33m\u001b[0m\u001b[0m\n\u001b[0;32m    859\u001b[0m             )\n\u001b[1;32m--> 860\u001b[1;33m         return self._input_request(str(prompt),\n\u001b[0m\u001b[0;32m    861\u001b[0m             \u001b[0mself\u001b[0m\u001b[1;33m.\u001b[0m\u001b[0m_parent_ident\u001b[0m\u001b[1;33m,\u001b[0m\u001b[1;33m\u001b[0m\u001b[1;33m\u001b[0m\u001b[0m\n\u001b[0;32m    862\u001b[0m             \u001b[0mself\u001b[0m\u001b[1;33m.\u001b[0m\u001b[0m_parent_header\u001b[0m\u001b[1;33m,\u001b[0m\u001b[1;33m\u001b[0m\u001b[1;33m\u001b[0m\u001b[0m\n",
      "\u001b[1;32m~\\anaconda3\\lib\\site-packages\\ipykernel\\kernelbase.py\u001b[0m in \u001b[0;36m_input_request\u001b[1;34m(self, prompt, ident, parent, password)\u001b[0m\n\u001b[0;32m    902\u001b[0m             \u001b[1;32mexcept\u001b[0m \u001b[0mKeyboardInterrupt\u001b[0m\u001b[1;33m:\u001b[0m\u001b[1;33m\u001b[0m\u001b[1;33m\u001b[0m\u001b[0m\n\u001b[0;32m    903\u001b[0m                 \u001b[1;31m# re-raise KeyboardInterrupt, to truncate traceback\u001b[0m\u001b[1;33m\u001b[0m\u001b[1;33m\u001b[0m\u001b[1;33m\u001b[0m\u001b[0m\n\u001b[1;32m--> 904\u001b[1;33m                 \u001b[1;32mraise\u001b[0m \u001b[0mKeyboardInterrupt\u001b[0m\u001b[1;33m(\u001b[0m\u001b[1;34m\"Interrupted by user\"\u001b[0m\u001b[1;33m)\u001b[0m \u001b[1;32mfrom\u001b[0m \u001b[1;32mNone\u001b[0m\u001b[1;33m\u001b[0m\u001b[1;33m\u001b[0m\u001b[0m\n\u001b[0m\u001b[0;32m    905\u001b[0m             \u001b[1;32mexcept\u001b[0m \u001b[0mException\u001b[0m \u001b[1;32mas\u001b[0m \u001b[0me\u001b[0m\u001b[1;33m:\u001b[0m\u001b[1;33m\u001b[0m\u001b[1;33m\u001b[0m\u001b[0m\n\u001b[0;32m    906\u001b[0m                 \u001b[0mself\u001b[0m\u001b[1;33m.\u001b[0m\u001b[0mlog\u001b[0m\u001b[1;33m.\u001b[0m\u001b[0mwarning\u001b[0m\u001b[1;33m(\u001b[0m\u001b[1;34m\"Invalid Message:\"\u001b[0m\u001b[1;33m,\u001b[0m \u001b[0mexc_info\u001b[0m\u001b[1;33m=\u001b[0m\u001b[1;32mTrue\u001b[0m\u001b[1;33m)\u001b[0m\u001b[1;33m\u001b[0m\u001b[1;33m\u001b[0m\u001b[0m\n",
      "\u001b[1;31mKeyboardInterrupt\u001b[0m: Interrupted by user"
     ]
    }
   ],
   "source": [
    "MAX_CUPS = 10000000\n",
    "\n",
    "# Сколько весит грузовик в котором cups_number чашек\n",
    "def weight_cups(cups_number):\n",
    "    return 3000000 + 100*cups_number\n",
    "\n",
    "# Количество вершин - N, матрица смежности - mat, стартует с нулевой вершины, возвращает минимальное время \n",
    "# достижения последней вершины\n",
    "\n",
    "def Dijkstra(N, mat):  \n",
    "    weight = [float(\"inf\")]*N\n",
    "    weight[0] = 0\n",
    "    valid = [True]*N \n",
    "    for i in range(N):\n",
    "        min_weight = float(\"inf\")\n",
    "        idx = -1\n",
    "        for j in range(N):\n",
    "            if valid[j] and weight[j] < min_weight:\n",
    "                min_weight = weight[j]\n",
    "                idx = j\n",
    "        for k in range(N):\n",
    "            if weight[idx] + mat[idx][k] < weight[k]:\n",
    "                weight[k] = weight[idx] + mat[idx][k]\n",
    "        valid[idx] = False\n",
    "    return weight[N-1]\n",
    "\n",
    "def main():\n",
    "    \n",
    "    N, M = input().split(\" \")\n",
    "    N = int(N)\n",
    "    M = int(M)\n",
    "    begin, end, time, max_weight = [0]*M,[0]*M,[0]*M,[0]*M\n",
    "    for i in range(M):\n",
    "        string = input()\n",
    "        begin[i], end[i], time[i], max_weight[i] = string.split(\" \")\n",
    "        begin[i], end[i], time[i], max_weight[i] = int(begin[i]), int(end[i]), int(time[i]), int(max_weight[i])        \n",
    "    left = 0\n",
    "    right = MAX_CUPS  \n",
    "    \n",
    "    if not M:\n",
    "        return right\n",
    "\n",
    "    while ((right - left) > 1):\n",
    "        adj_matrix = [[float(\"inf\")]*N for i in range(N)] \n",
    "        for i in range(N):\n",
    "            adj_matrix[i][i] = 0\n",
    "        current_cups = (right - left)//2 + left\n",
    "        roads_to_include = []\n",
    "        for i in range(M):\n",
    "            if weight_cups(current_cups) <= max_weight[i]:\n",
    "                roads_to_include.append(i)\n",
    "        for i in roads_to_include:\n",
    "            adj_matrix[begin[i] - 1][end[i] - 1] = time[i]\n",
    "            adj_matrix[end[i] - 1][begin[i] - 1] = time[i]\n",
    "        if Dijkstra(N, adj_matrix) > 1440:\n",
    "            right = current_cups\n",
    "        else:\n",
    "            left = current_cups\n",
    "            \n",
    "    return left\n",
    "\n",
    "if __name__ == \"__main__\":\n",
    "    print(main())"
   ]
  },
  {
   "cell_type": "code",
   "execution_count": null,
   "metadata": {},
   "outputs": [],
   "source": []
  }
 ],
 "metadata": {
  "kernelspec": {
   "display_name": "Python 3",
   "language": "python",
   "name": "python3"
  },
  "language_info": {
   "codemirror_mode": {
    "name": "ipython",
    "version": 3
   },
   "file_extension": ".py",
   "mimetype": "text/x-python",
   "name": "python",
   "nbconvert_exporter": "python",
   "pygments_lexer": "ipython3",
   "version": "3.8.5"
  }
 },
 "nbformat": 4,
 "nbformat_minor": 4
}
